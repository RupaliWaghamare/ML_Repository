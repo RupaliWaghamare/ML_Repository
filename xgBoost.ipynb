{
 "cells": [
  {
   "cell_type": "markdown",
   "metadata": {},
   "source": [
    "# xgBoost Extreme Gradient Boosting"
   ]
  },
  {
   "cell_type": "markdown",
   "metadata": {},
   "source": [
    "![image.png](attachment:image.png)"
   ]
  },
  {
   "cell_type": "code",
   "execution_count": 67,
   "metadata": {},
   "outputs": [
    {
     "name": "stdout",
     "output_type": "stream",
     "text": [
      "Requirement already satisfied: xgboost in c:\\programdata\\anaconda3\\lib\\site-packages (2.1.0)Note: you may need to restart the kernel to use updated packages.\n",
      "\n",
      "Requirement already satisfied: numpy in c:\\programdata\\anaconda3\\lib\\site-packages (from xgboost) (1.24.3)\n",
      "Requirement already satisfied: scipy in c:\\programdata\\anaconda3\\lib\\site-packages (from xgboost) (1.11.1)\n"
     ]
    }
   ],
   "source": [
    "%pip install xgboost"
   ]
  },
  {
   "cell_type": "code",
   "execution_count": 68,
   "metadata": {},
   "outputs": [],
   "source": [
    "### Restart and run all cells"
   ]
  },
  {
   "cell_type": "code",
   "execution_count": 69,
   "metadata": {},
   "outputs": [],
   "source": [
    "from warnings import filterwarnings\n",
    "filterwarnings('ignore')"
   ]
  },
  {
   "cell_type": "markdown",
   "metadata": {},
   "source": [
    "### Step 1 : Load the train data"
   ]
  },
  {
   "cell_type": "code",
   "execution_count": 70,
   "metadata": {},
   "outputs": [
    {
     "data": {
      "text/html": [
       "<div>\n",
       "<style scoped>\n",
       "    .dataframe tbody tr th:only-of-type {\n",
       "        vertical-align: middle;\n",
       "    }\n",
       "\n",
       "    .dataframe tbody tr th {\n",
       "        vertical-align: top;\n",
       "    }\n",
       "\n",
       "    .dataframe thead th {\n",
       "        text-align: right;\n",
       "    }\n",
       "</style>\n",
       "<table border=\"1\" class=\"dataframe\">\n",
       "  <thead>\n",
       "    <tr style=\"text-align: right;\">\n",
       "      <th></th>\n",
       "      <th>Temperature</th>\n",
       "      <th>Humidity</th>\n",
       "      <th>Wind Speed</th>\n",
       "      <th>Precipitation (%)</th>\n",
       "      <th>Cloud Cover</th>\n",
       "      <th>Atmospheric Pressure</th>\n",
       "      <th>UV Index</th>\n",
       "      <th>Season</th>\n",
       "      <th>Visibility (km)</th>\n",
       "      <th>Location</th>\n",
       "      <th>Weather Type</th>\n",
       "    </tr>\n",
       "  </thead>\n",
       "  <tbody>\n",
       "    <tr>\n",
       "      <th>0</th>\n",
       "      <td>14.0</td>\n",
       "      <td>73</td>\n",
       "      <td>9.5</td>\n",
       "      <td>82.0</td>\n",
       "      <td>partly cloudy</td>\n",
       "      <td>1010.82</td>\n",
       "      <td>2</td>\n",
       "      <td>Winter</td>\n",
       "      <td>3.5</td>\n",
       "      <td>inland</td>\n",
       "      <td>Rainy</td>\n",
       "    </tr>\n",
       "    <tr>\n",
       "      <th>1</th>\n",
       "      <td>39.0</td>\n",
       "      <td>96</td>\n",
       "      <td>8.5</td>\n",
       "      <td>71.0</td>\n",
       "      <td>partly cloudy</td>\n",
       "      <td>1011.43</td>\n",
       "      <td>7</td>\n",
       "      <td>Spring</td>\n",
       "      <td>10.0</td>\n",
       "      <td>inland</td>\n",
       "      <td>Cloudy</td>\n",
       "    </tr>\n",
       "    <tr>\n",
       "      <th>2</th>\n",
       "      <td>30.0</td>\n",
       "      <td>64</td>\n",
       "      <td>7.0</td>\n",
       "      <td>16.0</td>\n",
       "      <td>clear</td>\n",
       "      <td>1018.72</td>\n",
       "      <td>5</td>\n",
       "      <td>Spring</td>\n",
       "      <td>5.5</td>\n",
       "      <td>mountain</td>\n",
       "      <td>Sunny</td>\n",
       "    </tr>\n",
       "    <tr>\n",
       "      <th>3</th>\n",
       "      <td>38.0</td>\n",
       "      <td>83</td>\n",
       "      <td>1.5</td>\n",
       "      <td>82.0</td>\n",
       "      <td>clear</td>\n",
       "      <td>1026.25</td>\n",
       "      <td>7</td>\n",
       "      <td>Spring</td>\n",
       "      <td>1.0</td>\n",
       "      <td>coastal</td>\n",
       "      <td>Sunny</td>\n",
       "    </tr>\n",
       "    <tr>\n",
       "      <th>4</th>\n",
       "      <td>27.0</td>\n",
       "      <td>74</td>\n",
       "      <td>17.0</td>\n",
       "      <td>66.0</td>\n",
       "      <td>overcast</td>\n",
       "      <td>990.67</td>\n",
       "      <td>1</td>\n",
       "      <td>Winter</td>\n",
       "      <td>2.5</td>\n",
       "      <td>mountain</td>\n",
       "      <td>Rainy</td>\n",
       "    </tr>\n",
       "  </tbody>\n",
       "</table>\n",
       "</div>"
      ],
      "text/plain": [
       "   Temperature  Humidity  Wind Speed  Precipitation (%)    Cloud Cover  \\\n",
       "0         14.0        73         9.5               82.0  partly cloudy   \n",
       "1         39.0        96         8.5               71.0  partly cloudy   \n",
       "2         30.0        64         7.0               16.0          clear   \n",
       "3         38.0        83         1.5               82.0          clear   \n",
       "4         27.0        74        17.0               66.0       overcast   \n",
       "\n",
       "   Atmospheric Pressure  UV Index  Season  Visibility (km)  Location  \\\n",
       "0               1010.82         2  Winter              3.5    inland   \n",
       "1               1011.43         7  Spring             10.0    inland   \n",
       "2               1018.72         5  Spring              5.5  mountain   \n",
       "3               1026.25         7  Spring              1.0   coastal   \n",
       "4                990.67         1  Winter              2.5  mountain   \n",
       "\n",
       "  Weather Type  \n",
       "0        Rainy  \n",
       "1       Cloudy  \n",
       "2        Sunny  \n",
       "3        Sunny  \n",
       "4        Rainy  "
      ]
     },
     "execution_count": 70,
     "metadata": {},
     "output_type": "execute_result"
    }
   ],
   "source": [
    "import pandas as pd \n",
    "df = pd.read_csv(\"train_weather.csv\")\n",
    "df.head()"
   ]
  },
  {
   "cell_type": "markdown",
   "metadata": {},
   "source": [
    "### Step 2: Perform basic data quality checks"
   ]
  },
  {
   "cell_type": "code",
   "execution_count": 71,
   "metadata": {},
   "outputs": [
    {
     "name": "stdout",
     "output_type": "stream",
     "text": [
      "<class 'pandas.core.frame.DataFrame'>\n",
      "RangeIndex: 13200 entries, 0 to 13199\n",
      "Data columns (total 11 columns):\n",
      " #   Column                Non-Null Count  Dtype  \n",
      "---  ------                --------------  -----  \n",
      " 0   Temperature           13200 non-null  float64\n",
      " 1   Humidity              13200 non-null  int64  \n",
      " 2   Wind Speed            13200 non-null  float64\n",
      " 3   Precipitation (%)     13200 non-null  float64\n",
      " 4   Cloud Cover           13200 non-null  object \n",
      " 5   Atmospheric Pressure  13200 non-null  float64\n",
      " 6   UV Index              13200 non-null  int64  \n",
      " 7   Season                13200 non-null  object \n",
      " 8   Visibility (km)       13200 non-null  float64\n",
      " 9   Location              13200 non-null  object \n",
      " 10  Weather Type          13200 non-null  object \n",
      "dtypes: float64(5), int64(2), object(4)\n",
      "memory usage: 1.1+ MB\n"
     ]
    }
   ],
   "source": [
    "df.info()"
   ]
  },
  {
   "cell_type": "code",
   "execution_count": 72,
   "metadata": {},
   "outputs": [
    {
     "data": {
      "text/plain": [
       "Temperature             0\n",
       "Humidity                0\n",
       "Wind Speed              0\n",
       "Precipitation (%)       0\n",
       "Cloud Cover             0\n",
       "Atmospheric Pressure    0\n",
       "UV Index                0\n",
       "Season                  0\n",
       "Visibility (km)         0\n",
       "Location                0\n",
       "Weather Type            0\n",
       "dtype: int64"
      ]
     },
     "execution_count": 72,
     "metadata": {},
     "output_type": "execute_result"
    }
   ],
   "source": [
    "df.isna().sum()"
   ]
  },
  {
   "cell_type": "code",
   "execution_count": 73,
   "metadata": {},
   "outputs": [
    {
     "data": {
      "text/plain": [
       "0"
      ]
     },
     "execution_count": 73,
     "metadata": {},
     "output_type": "execute_result"
    }
   ],
   "source": [
    "df.duplicated().sum()"
   ]
  },
  {
   "cell_type": "code",
   "execution_count": 74,
   "metadata": {},
   "outputs": [
    {
     "data": {
      "text/plain": [
       "array(['Rainy', 'Cloudy', 'Sunny', 'Snowy'], dtype=object)"
      ]
     },
     "execution_count": 74,
     "metadata": {},
     "output_type": "execute_result"
    }
   ],
   "source": [
    "df['Weather Type'].unique()"
   ]
  },
  {
   "cell_type": "markdown",
   "metadata": {},
   "source": [
    "### Above is multiclass classification problem because it has more than 2 classes"
   ]
  },
  {
   "cell_type": "markdown",
   "metadata": {},
   "source": [
    "### Step 3: X and Y (Weather Type)"
   ]
  },
  {
   "cell_type": "code",
   "execution_count": 75,
   "metadata": {},
   "outputs": [],
   "source": [
    "X = df.drop(columns=['Weather Type'])\n",
    "Y = df[['Weather Type']]\n"
   ]
  },
  {
   "cell_type": "code",
   "execution_count": 76,
   "metadata": {},
   "outputs": [
    {
     "data": {
      "text/html": [
       "<div>\n",
       "<style scoped>\n",
       "    .dataframe tbody tr th:only-of-type {\n",
       "        vertical-align: middle;\n",
       "    }\n",
       "\n",
       "    .dataframe tbody tr th {\n",
       "        vertical-align: top;\n",
       "    }\n",
       "\n",
       "    .dataframe thead th {\n",
       "        text-align: right;\n",
       "    }\n",
       "</style>\n",
       "<table border=\"1\" class=\"dataframe\">\n",
       "  <thead>\n",
       "    <tr style=\"text-align: right;\">\n",
       "      <th></th>\n",
       "      <th>Temperature</th>\n",
       "      <th>Humidity</th>\n",
       "      <th>Wind Speed</th>\n",
       "      <th>Precipitation (%)</th>\n",
       "      <th>Cloud Cover</th>\n",
       "      <th>Atmospheric Pressure</th>\n",
       "      <th>UV Index</th>\n",
       "      <th>Season</th>\n",
       "      <th>Visibility (km)</th>\n",
       "      <th>Location</th>\n",
       "    </tr>\n",
       "  </thead>\n",
       "  <tbody>\n",
       "    <tr>\n",
       "      <th>0</th>\n",
       "      <td>14.0</td>\n",
       "      <td>73</td>\n",
       "      <td>9.5</td>\n",
       "      <td>82.0</td>\n",
       "      <td>partly cloudy</td>\n",
       "      <td>1010.82</td>\n",
       "      <td>2</td>\n",
       "      <td>Winter</td>\n",
       "      <td>3.5</td>\n",
       "      <td>inland</td>\n",
       "    </tr>\n",
       "    <tr>\n",
       "      <th>1</th>\n",
       "      <td>39.0</td>\n",
       "      <td>96</td>\n",
       "      <td>8.5</td>\n",
       "      <td>71.0</td>\n",
       "      <td>partly cloudy</td>\n",
       "      <td>1011.43</td>\n",
       "      <td>7</td>\n",
       "      <td>Spring</td>\n",
       "      <td>10.0</td>\n",
       "      <td>inland</td>\n",
       "    </tr>\n",
       "    <tr>\n",
       "      <th>2</th>\n",
       "      <td>30.0</td>\n",
       "      <td>64</td>\n",
       "      <td>7.0</td>\n",
       "      <td>16.0</td>\n",
       "      <td>clear</td>\n",
       "      <td>1018.72</td>\n",
       "      <td>5</td>\n",
       "      <td>Spring</td>\n",
       "      <td>5.5</td>\n",
       "      <td>mountain</td>\n",
       "    </tr>\n",
       "    <tr>\n",
       "      <th>3</th>\n",
       "      <td>38.0</td>\n",
       "      <td>83</td>\n",
       "      <td>1.5</td>\n",
       "      <td>82.0</td>\n",
       "      <td>clear</td>\n",
       "      <td>1026.25</td>\n",
       "      <td>7</td>\n",
       "      <td>Spring</td>\n",
       "      <td>1.0</td>\n",
       "      <td>coastal</td>\n",
       "    </tr>\n",
       "    <tr>\n",
       "      <th>4</th>\n",
       "      <td>27.0</td>\n",
       "      <td>74</td>\n",
       "      <td>17.0</td>\n",
       "      <td>66.0</td>\n",
       "      <td>overcast</td>\n",
       "      <td>990.67</td>\n",
       "      <td>1</td>\n",
       "      <td>Winter</td>\n",
       "      <td>2.5</td>\n",
       "      <td>mountain</td>\n",
       "    </tr>\n",
       "  </tbody>\n",
       "</table>\n",
       "</div>"
      ],
      "text/plain": [
       "   Temperature  Humidity  Wind Speed  Precipitation (%)    Cloud Cover  \\\n",
       "0         14.0        73         9.5               82.0  partly cloudy   \n",
       "1         39.0        96         8.5               71.0  partly cloudy   \n",
       "2         30.0        64         7.0               16.0          clear   \n",
       "3         38.0        83         1.5               82.0          clear   \n",
       "4         27.0        74        17.0               66.0       overcast   \n",
       "\n",
       "   Atmospheric Pressure  UV Index  Season  Visibility (km)  Location  \n",
       "0               1010.82         2  Winter              3.5    inland  \n",
       "1               1011.43         7  Spring             10.0    inland  \n",
       "2               1018.72         5  Spring              5.5  mountain  \n",
       "3               1026.25         7  Spring              1.0   coastal  \n",
       "4                990.67         1  Winter              2.5  mountain  "
      ]
     },
     "execution_count": 76,
     "metadata": {},
     "output_type": "execute_result"
    }
   ],
   "source": [
    "X.head()"
   ]
  },
  {
   "cell_type": "code",
   "execution_count": 77,
   "metadata": {},
   "outputs": [
    {
     "data": {
      "text/html": [
       "<div>\n",
       "<style scoped>\n",
       "    .dataframe tbody tr th:only-of-type {\n",
       "        vertical-align: middle;\n",
       "    }\n",
       "\n",
       "    .dataframe tbody tr th {\n",
       "        vertical-align: top;\n",
       "    }\n",
       "\n",
       "    .dataframe thead th {\n",
       "        text-align: right;\n",
       "    }\n",
       "</style>\n",
       "<table border=\"1\" class=\"dataframe\">\n",
       "  <thead>\n",
       "    <tr style=\"text-align: right;\">\n",
       "      <th></th>\n",
       "      <th>Weather Type</th>\n",
       "    </tr>\n",
       "  </thead>\n",
       "  <tbody>\n",
       "    <tr>\n",
       "      <th>0</th>\n",
       "      <td>Rainy</td>\n",
       "    </tr>\n",
       "    <tr>\n",
       "      <th>1</th>\n",
       "      <td>Cloudy</td>\n",
       "    </tr>\n",
       "    <tr>\n",
       "      <th>2</th>\n",
       "      <td>Sunny</td>\n",
       "    </tr>\n",
       "    <tr>\n",
       "      <th>3</th>\n",
       "      <td>Sunny</td>\n",
       "    </tr>\n",
       "    <tr>\n",
       "      <th>4</th>\n",
       "      <td>Rainy</td>\n",
       "    </tr>\n",
       "  </tbody>\n",
       "</table>\n",
       "</div>"
      ],
      "text/plain": [
       "  Weather Type\n",
       "0        Rainy\n",
       "1       Cloudy\n",
       "2        Sunny\n",
       "3        Sunny\n",
       "4        Rainy"
      ]
     },
     "execution_count": 77,
     "metadata": {},
     "output_type": "execute_result"
    }
   ],
   "source": [
    "Y.head()"
   ]
  },
  {
   "cell_type": "markdown",
   "metadata": {},
   "source": [
    "### Step 5: Apply preprocessing pipeline on X"
   ]
  },
  {
   "cell_type": "code",
   "execution_count": 78,
   "metadata": {},
   "outputs": [
    {
     "data": {
      "text/plain": [
       "Temperature             float64\n",
       "Humidity                  int64\n",
       "Wind Speed              float64\n",
       "Precipitation (%)       float64\n",
       "Cloud Cover              object\n",
       "Atmospheric Pressure    float64\n",
       "UV Index                  int64\n",
       "Season                   object\n",
       "Visibility (km)         float64\n",
       "Location                 object\n",
       "dtype: object"
      ]
     },
     "execution_count": 78,
     "metadata": {},
     "output_type": "execute_result"
    }
   ],
   "source": [
    "X.dtypes"
   ]
  },
  {
   "cell_type": "code",
   "execution_count": 79,
   "metadata": {},
   "outputs": [],
   "source": [
    "cat = list(X.columns[X.dtypes=='object'])\n",
    "con = list(X.columns[X.dtypes!='object'])"
   ]
  },
  {
   "cell_type": "code",
   "execution_count": 80,
   "metadata": {},
   "outputs": [
    {
     "data": {
      "text/plain": [
       "['Cloud Cover', 'Season', 'Location']"
      ]
     },
     "execution_count": 80,
     "metadata": {},
     "output_type": "execute_result"
    }
   ],
   "source": [
    "cat"
   ]
  },
  {
   "cell_type": "code",
   "execution_count": 81,
   "metadata": {},
   "outputs": [
    {
     "data": {
      "text/plain": [
       "['Temperature',\n",
       " 'Humidity',\n",
       " 'Wind Speed',\n",
       " 'Precipitation (%)',\n",
       " 'Atmospheric Pressure',\n",
       " 'UV Index',\n",
       " 'Visibility (km)']"
      ]
     },
     "execution_count": 81,
     "metadata": {},
     "output_type": "execute_result"
    }
   ],
   "source": [
    "con"
   ]
  },
  {
   "cell_type": "code",
   "execution_count": 82,
   "metadata": {},
   "outputs": [],
   "source": [
    "from sklearn.pipeline import Pipeline\n",
    "from sklearn.impute import SimpleImputer\n",
    "from sklearn.preprocessing import StandardScaler, OneHotEncoder\n",
    "from sklearn.compose import ColumnTransformer"
   ]
  },
  {
   "cell_type": "code",
   "execution_count": 83,
   "metadata": {},
   "outputs": [],
   "source": [
    "num_pipe = Pipeline(steps=[('impute', SimpleImputer(strategy='median')),\n",
    "                           ('scaler', StandardScaler())])"
   ]
  },
  {
   "cell_type": "code",
   "execution_count": 84,
   "metadata": {},
   "outputs": [],
   "source": [
    "cat_pipe = Pipeline(steps=[('impute', SimpleImputer(strategy='most_frequent')),\n",
    "                           ('ohe', OneHotEncoder(handle_unknown='ignore',\n",
    "                                                 sparse_output=False))])"
   ]
  },
  {
   "cell_type": "code",
   "execution_count": 85,
   "metadata": {},
   "outputs": [],
   "source": [
    "pre = ColumnTransformer([('num', num_pipe, con),\n",
    "                         ('cat', cat_pipe, cat)]).set_output(transform='pandas')"
   ]
  },
  {
   "cell_type": "code",
   "execution_count": 86,
   "metadata": {},
   "outputs": [
    {
     "data": {
      "text/html": [
       "<div>\n",
       "<style scoped>\n",
       "    .dataframe tbody tr th:only-of-type {\n",
       "        vertical-align: middle;\n",
       "    }\n",
       "\n",
       "    .dataframe tbody tr th {\n",
       "        vertical-align: top;\n",
       "    }\n",
       "\n",
       "    .dataframe thead th {\n",
       "        text-align: right;\n",
       "    }\n",
       "</style>\n",
       "<table border=\"1\" class=\"dataframe\">\n",
       "  <thead>\n",
       "    <tr style=\"text-align: right;\">\n",
       "      <th></th>\n",
       "      <th>num__Temperature</th>\n",
       "      <th>num__Humidity</th>\n",
       "      <th>num__Wind Speed</th>\n",
       "      <th>num__Precipitation (%)</th>\n",
       "      <th>num__Atmospheric Pressure</th>\n",
       "      <th>num__UV Index</th>\n",
       "      <th>num__Visibility (km)</th>\n",
       "      <th>cat__Cloud Cover_clear</th>\n",
       "      <th>cat__Cloud Cover_cloudy</th>\n",
       "      <th>cat__Cloud Cover_overcast</th>\n",
       "      <th>cat__Cloud Cover_partly cloudy</th>\n",
       "      <th>cat__Season_Autumn</th>\n",
       "      <th>cat__Season_Spring</th>\n",
       "      <th>cat__Season_Summer</th>\n",
       "      <th>cat__Season_Winter</th>\n",
       "      <th>cat__Location_coastal</th>\n",
       "      <th>cat__Location_inland</th>\n",
       "      <th>cat__Location_mountain</th>\n",
       "    </tr>\n",
       "  </thead>\n",
       "  <tbody>\n",
       "    <tr>\n",
       "      <th>0</th>\n",
       "      <td>-0.294931</td>\n",
       "      <td>0.212404</td>\n",
       "      <td>-0.048086</td>\n",
       "      <td>0.887629</td>\n",
       "      <td>0.134203</td>\n",
       "      <td>-0.520104</td>\n",
       "      <td>-0.582231</td>\n",
       "      <td>0.0</td>\n",
       "      <td>0.0</td>\n",
       "      <td>0.0</td>\n",
       "      <td>1.0</td>\n",
       "      <td>0.0</td>\n",
       "      <td>0.0</td>\n",
       "      <td>0.0</td>\n",
       "      <td>1.0</td>\n",
       "      <td>0.0</td>\n",
       "      <td>1.0</td>\n",
       "      <td>0.0</td>\n",
       "    </tr>\n",
       "    <tr>\n",
       "      <th>1</th>\n",
       "      <td>1.143035</td>\n",
       "      <td>1.351385</td>\n",
       "      <td>-0.192836</td>\n",
       "      <td>0.543291</td>\n",
       "      <td>0.150602</td>\n",
       "      <td>0.776424</td>\n",
       "      <td>1.345768</td>\n",
       "      <td>0.0</td>\n",
       "      <td>0.0</td>\n",
       "      <td>0.0</td>\n",
       "      <td>1.0</td>\n",
       "      <td>0.0</td>\n",
       "      <td>1.0</td>\n",
       "      <td>0.0</td>\n",
       "      <td>0.0</td>\n",
       "      <td>0.0</td>\n",
       "      <td>1.0</td>\n",
       "      <td>0.0</td>\n",
       "    </tr>\n",
       "    <tr>\n",
       "      <th>2</th>\n",
       "      <td>0.625367</td>\n",
       "      <td>-0.233285</td>\n",
       "      <td>-0.409962</td>\n",
       "      <td>-1.178401</td>\n",
       "      <td>0.346579</td>\n",
       "      <td>0.257813</td>\n",
       "      <td>0.010999</td>\n",
       "      <td>1.0</td>\n",
       "      <td>0.0</td>\n",
       "      <td>0.0</td>\n",
       "      <td>0.0</td>\n",
       "      <td>0.0</td>\n",
       "      <td>1.0</td>\n",
       "      <td>0.0</td>\n",
       "      <td>0.0</td>\n",
       "      <td>0.0</td>\n",
       "      <td>0.0</td>\n",
       "      <td>1.0</td>\n",
       "    </tr>\n",
       "    <tr>\n",
       "      <th>3</th>\n",
       "      <td>1.085516</td>\n",
       "      <td>0.707613</td>\n",
       "      <td>-1.206089</td>\n",
       "      <td>0.887629</td>\n",
       "      <td>0.549008</td>\n",
       "      <td>0.776424</td>\n",
       "      <td>-1.323769</td>\n",
       "      <td>1.0</td>\n",
       "      <td>0.0</td>\n",
       "      <td>0.0</td>\n",
       "      <td>0.0</td>\n",
       "      <td>0.0</td>\n",
       "      <td>1.0</td>\n",
       "      <td>0.0</td>\n",
       "      <td>0.0</td>\n",
       "      <td>1.0</td>\n",
       "      <td>0.0</td>\n",
       "      <td>0.0</td>\n",
       "    </tr>\n",
       "    <tr>\n",
       "      <th>4</th>\n",
       "      <td>0.452811</td>\n",
       "      <td>0.261924</td>\n",
       "      <td>1.037543</td>\n",
       "      <td>0.386773</td>\n",
       "      <td>-0.407490</td>\n",
       "      <td>-0.779410</td>\n",
       "      <td>-0.878846</td>\n",
       "      <td>0.0</td>\n",
       "      <td>0.0</td>\n",
       "      <td>1.0</td>\n",
       "      <td>0.0</td>\n",
       "      <td>0.0</td>\n",
       "      <td>0.0</td>\n",
       "      <td>0.0</td>\n",
       "      <td>1.0</td>\n",
       "      <td>0.0</td>\n",
       "      <td>0.0</td>\n",
       "      <td>1.0</td>\n",
       "    </tr>\n",
       "  </tbody>\n",
       "</table>\n",
       "</div>"
      ],
      "text/plain": [
       "   num__Temperature  num__Humidity  num__Wind Speed  num__Precipitation (%)  \\\n",
       "0         -0.294931       0.212404        -0.048086                0.887629   \n",
       "1          1.143035       1.351385        -0.192836                0.543291   \n",
       "2          0.625367      -0.233285        -0.409962               -1.178401   \n",
       "3          1.085516       0.707613        -1.206089                0.887629   \n",
       "4          0.452811       0.261924         1.037543                0.386773   \n",
       "\n",
       "   num__Atmospheric Pressure  num__UV Index  num__Visibility (km)  \\\n",
       "0                   0.134203      -0.520104             -0.582231   \n",
       "1                   0.150602       0.776424              1.345768   \n",
       "2                   0.346579       0.257813              0.010999   \n",
       "3                   0.549008       0.776424             -1.323769   \n",
       "4                  -0.407490      -0.779410             -0.878846   \n",
       "\n",
       "   cat__Cloud Cover_clear  cat__Cloud Cover_cloudy  cat__Cloud Cover_overcast  \\\n",
       "0                     0.0                      0.0                        0.0   \n",
       "1                     0.0                      0.0                        0.0   \n",
       "2                     1.0                      0.0                        0.0   \n",
       "3                     1.0                      0.0                        0.0   \n",
       "4                     0.0                      0.0                        1.0   \n",
       "\n",
       "   cat__Cloud Cover_partly cloudy  cat__Season_Autumn  cat__Season_Spring  \\\n",
       "0                             1.0                 0.0                 0.0   \n",
       "1                             1.0                 0.0                 1.0   \n",
       "2                             0.0                 0.0                 1.0   \n",
       "3                             0.0                 0.0                 1.0   \n",
       "4                             0.0                 0.0                 0.0   \n",
       "\n",
       "   cat__Season_Summer  cat__Season_Winter  cat__Location_coastal  \\\n",
       "0                 0.0                 1.0                    0.0   \n",
       "1                 0.0                 0.0                    0.0   \n",
       "2                 0.0                 0.0                    0.0   \n",
       "3                 0.0                 0.0                    1.0   \n",
       "4                 0.0                 1.0                    0.0   \n",
       "\n",
       "   cat__Location_inland  cat__Location_mountain  \n",
       "0                   1.0                     0.0  \n",
       "1                   1.0                     0.0  \n",
       "2                   0.0                     1.0  \n",
       "3                   0.0                     0.0  \n",
       "4                   0.0                     1.0  "
      ]
     },
     "execution_count": 86,
     "metadata": {},
     "output_type": "execute_result"
    }
   ],
   "source": [
    "X_pre = pre.fit_transform(X)\n",
    "X_pre.head()"
   ]
  },
  {
   "cell_type": "markdown",
   "metadata": {},
   "source": [
    "### Beacuse i am working on xgboost, it requires target features to be label encoded"
   ]
  },
  {
   "cell_type": "code",
   "execution_count": 87,
   "metadata": {},
   "outputs": [],
   "source": [
    "from sklearn.preprocessing import LabelEncoder\n",
    "le = LabelEncoder()\n",
    "Y_pre = le.fit_transform(Y)"
   ]
  },
  {
   "cell_type": "code",
   "execution_count": 88,
   "metadata": {},
   "outputs": [
    {
     "data": {
      "text/plain": [
       "array([1, 0, 3, 3, 1])"
      ]
     },
     "execution_count": 88,
     "metadata": {},
     "output_type": "execute_result"
    }
   ],
   "source": [
    "Y_pre[0:5]"
   ]
  },
  {
   "cell_type": "code",
   "execution_count": 89,
   "metadata": {},
   "outputs": [
    {
     "data": {
      "text/html": [
       "<div>\n",
       "<style scoped>\n",
       "    .dataframe tbody tr th:only-of-type {\n",
       "        vertical-align: middle;\n",
       "    }\n",
       "\n",
       "    .dataframe tbody tr th {\n",
       "        vertical-align: top;\n",
       "    }\n",
       "\n",
       "    .dataframe thead th {\n",
       "        text-align: right;\n",
       "    }\n",
       "</style>\n",
       "<table border=\"1\" class=\"dataframe\">\n",
       "  <thead>\n",
       "    <tr style=\"text-align: right;\">\n",
       "      <th></th>\n",
       "      <th>Weather Type</th>\n",
       "    </tr>\n",
       "  </thead>\n",
       "  <tbody>\n",
       "    <tr>\n",
       "      <th>0</th>\n",
       "      <td>Rainy</td>\n",
       "    </tr>\n",
       "    <tr>\n",
       "      <th>1</th>\n",
       "      <td>Cloudy</td>\n",
       "    </tr>\n",
       "    <tr>\n",
       "      <th>2</th>\n",
       "      <td>Sunny</td>\n",
       "    </tr>\n",
       "    <tr>\n",
       "      <th>3</th>\n",
       "      <td>Sunny</td>\n",
       "    </tr>\n",
       "    <tr>\n",
       "      <th>4</th>\n",
       "      <td>Rainy</td>\n",
       "    </tr>\n",
       "  </tbody>\n",
       "</table>\n",
       "</div>"
      ],
      "text/plain": [
       "  Weather Type\n",
       "0        Rainy\n",
       "1       Cloudy\n",
       "2        Sunny\n",
       "3        Sunny\n",
       "4        Rainy"
      ]
     },
     "execution_count": 89,
     "metadata": {},
     "output_type": "execute_result"
    }
   ],
   "source": [
    "Y.head()"
   ]
  },
  {
   "cell_type": "markdown",
   "metadata": {},
   "source": [
    "### Apply train test split on X_pre and Y_pre"
   ]
  },
  {
   "cell_type": "code",
   "execution_count": 90,
   "metadata": {},
   "outputs": [],
   "source": [
    "from sklearn.model_selection import train_test_split\n",
    "xtrain, xtest, ytrain, ytest = train_test_split(X_pre, Y_pre, \n",
    "                                                test_size=0.2,\n",
    "                                                random_state=42)"
   ]
  },
  {
   "cell_type": "code",
   "execution_count": 91,
   "metadata": {},
   "outputs": [
    {
     "data": {
      "text/html": [
       "<div>\n",
       "<style scoped>\n",
       "    .dataframe tbody tr th:only-of-type {\n",
       "        vertical-align: middle;\n",
       "    }\n",
       "\n",
       "    .dataframe tbody tr th {\n",
       "        vertical-align: top;\n",
       "    }\n",
       "\n",
       "    .dataframe thead th {\n",
       "        text-align: right;\n",
       "    }\n",
       "</style>\n",
       "<table border=\"1\" class=\"dataframe\">\n",
       "  <thead>\n",
       "    <tr style=\"text-align: right;\">\n",
       "      <th></th>\n",
       "      <th>num__Temperature</th>\n",
       "      <th>num__Humidity</th>\n",
       "      <th>num__Wind Speed</th>\n",
       "      <th>num__Precipitation (%)</th>\n",
       "      <th>num__Atmospheric Pressure</th>\n",
       "      <th>num__UV Index</th>\n",
       "      <th>num__Visibility (km)</th>\n",
       "      <th>cat__Cloud Cover_clear</th>\n",
       "      <th>cat__Cloud Cover_cloudy</th>\n",
       "      <th>cat__Cloud Cover_overcast</th>\n",
       "      <th>cat__Cloud Cover_partly cloudy</th>\n",
       "      <th>cat__Season_Autumn</th>\n",
       "      <th>cat__Season_Spring</th>\n",
       "      <th>cat__Season_Summer</th>\n",
       "      <th>cat__Season_Winter</th>\n",
       "      <th>cat__Location_coastal</th>\n",
       "      <th>cat__Location_inland</th>\n",
       "      <th>cat__Location_mountain</th>\n",
       "    </tr>\n",
       "  </thead>\n",
       "  <tbody>\n",
       "    <tr>\n",
       "      <th>3958</th>\n",
       "      <td>0.740404</td>\n",
       "      <td>-0.134243</td>\n",
       "      <td>-0.554712</td>\n",
       "      <td>1.200664</td>\n",
       "      <td>0.117804</td>\n",
       "      <td>-0.520104</td>\n",
       "      <td>-1.175461</td>\n",
       "      <td>0.0</td>\n",
       "      <td>0.0</td>\n",
       "      <td>0.0</td>\n",
       "      <td>1.0</td>\n",
       "      <td>0.0</td>\n",
       "      <td>1.0</td>\n",
       "      <td>0.0</td>\n",
       "      <td>0.0</td>\n",
       "      <td>0.0</td>\n",
       "      <td>1.0</td>\n",
       "      <td>0.0</td>\n",
       "    </tr>\n",
       "    <tr>\n",
       "      <th>2239</th>\n",
       "      <td>-0.237413</td>\n",
       "      <td>1.351385</td>\n",
       "      <td>0.169040</td>\n",
       "      <td>0.105042</td>\n",
       "      <td>0.299802</td>\n",
       "      <td>-1.038715</td>\n",
       "      <td>-0.433923</td>\n",
       "      <td>0.0</td>\n",
       "      <td>0.0</td>\n",
       "      <td>1.0</td>\n",
       "      <td>0.0</td>\n",
       "      <td>1.0</td>\n",
       "      <td>0.0</td>\n",
       "      <td>0.0</td>\n",
       "      <td>0.0</td>\n",
       "      <td>0.0</td>\n",
       "      <td>0.0</td>\n",
       "      <td>1.0</td>\n",
       "    </tr>\n",
       "    <tr>\n",
       "      <th>3608</th>\n",
       "      <td>0.510330</td>\n",
       "      <td>-0.530410</td>\n",
       "      <td>-0.482337</td>\n",
       "      <td>-1.334918</td>\n",
       "      <td>0.525351</td>\n",
       "      <td>1.554340</td>\n",
       "      <td>1.049153</td>\n",
       "      <td>1.0</td>\n",
       "      <td>0.0</td>\n",
       "      <td>0.0</td>\n",
       "      <td>0.0</td>\n",
       "      <td>0.0</td>\n",
       "      <td>0.0</td>\n",
       "      <td>1.0</td>\n",
       "      <td>0.0</td>\n",
       "      <td>0.0</td>\n",
       "      <td>1.0</td>\n",
       "      <td>0.0</td>\n",
       "    </tr>\n",
       "    <tr>\n",
       "      <th>6848</th>\n",
       "      <td>1.603184</td>\n",
       "      <td>0.757134</td>\n",
       "      <td>5.018179</td>\n",
       "      <td>0.981540</td>\n",
       "      <td>-0.364746</td>\n",
       "      <td>-0.520104</td>\n",
       "      <td>-1.027154</td>\n",
       "      <td>0.0</td>\n",
       "      <td>0.0</td>\n",
       "      <td>1.0</td>\n",
       "      <td>0.0</td>\n",
       "      <td>0.0</td>\n",
       "      <td>0.0</td>\n",
       "      <td>0.0</td>\n",
       "      <td>1.0</td>\n",
       "      <td>1.0</td>\n",
       "      <td>0.0</td>\n",
       "      <td>0.0</td>\n",
       "    </tr>\n",
       "    <tr>\n",
       "      <th>6119</th>\n",
       "      <td>-0.064857</td>\n",
       "      <td>-0.134243</td>\n",
       "      <td>0.603291</td>\n",
       "      <td>-1.366221</td>\n",
       "      <td>-0.155596</td>\n",
       "      <td>-0.779410</td>\n",
       "      <td>0.752538</td>\n",
       "      <td>0.0</td>\n",
       "      <td>0.0</td>\n",
       "      <td>0.0</td>\n",
       "      <td>1.0</td>\n",
       "      <td>1.0</td>\n",
       "      <td>0.0</td>\n",
       "      <td>0.0</td>\n",
       "      <td>0.0</td>\n",
       "      <td>1.0</td>\n",
       "      <td>0.0</td>\n",
       "      <td>0.0</td>\n",
       "    </tr>\n",
       "  </tbody>\n",
       "</table>\n",
       "</div>"
      ],
      "text/plain": [
       "      num__Temperature  num__Humidity  num__Wind Speed  \\\n",
       "3958          0.740404      -0.134243        -0.554712   \n",
       "2239         -0.237413       1.351385         0.169040   \n",
       "3608          0.510330      -0.530410        -0.482337   \n",
       "6848          1.603184       0.757134         5.018179   \n",
       "6119         -0.064857      -0.134243         0.603291   \n",
       "\n",
       "      num__Precipitation (%)  num__Atmospheric Pressure  num__UV Index  \\\n",
       "3958                1.200664                   0.117804      -0.520104   \n",
       "2239                0.105042                   0.299802      -1.038715   \n",
       "3608               -1.334918                   0.525351       1.554340   \n",
       "6848                0.981540                  -0.364746      -0.520104   \n",
       "6119               -1.366221                  -0.155596      -0.779410   \n",
       "\n",
       "      num__Visibility (km)  cat__Cloud Cover_clear  cat__Cloud Cover_cloudy  \\\n",
       "3958             -1.175461                     0.0                      0.0   \n",
       "2239             -0.433923                     0.0                      0.0   \n",
       "3608              1.049153                     1.0                      0.0   \n",
       "6848             -1.027154                     0.0                      0.0   \n",
       "6119              0.752538                     0.0                      0.0   \n",
       "\n",
       "      cat__Cloud Cover_overcast  cat__Cloud Cover_partly cloudy  \\\n",
       "3958                        0.0                             1.0   \n",
       "2239                        1.0                             0.0   \n",
       "3608                        0.0                             0.0   \n",
       "6848                        1.0                             0.0   \n",
       "6119                        0.0                             1.0   \n",
       "\n",
       "      cat__Season_Autumn  cat__Season_Spring  cat__Season_Summer  \\\n",
       "3958                 0.0                 1.0                 0.0   \n",
       "2239                 1.0                 0.0                 0.0   \n",
       "3608                 0.0                 0.0                 1.0   \n",
       "6848                 0.0                 0.0                 0.0   \n",
       "6119                 1.0                 0.0                 0.0   \n",
       "\n",
       "      cat__Season_Winter  cat__Location_coastal  cat__Location_inland  \\\n",
       "3958                 0.0                    0.0                   1.0   \n",
       "2239                 0.0                    0.0                   0.0   \n",
       "3608                 0.0                    0.0                   1.0   \n",
       "6848                 1.0                    1.0                   0.0   \n",
       "6119                 0.0                    1.0                   0.0   \n",
       "\n",
       "      cat__Location_mountain  \n",
       "3958                     0.0  \n",
       "2239                     1.0  \n",
       "3608                     0.0  \n",
       "6848                     0.0  \n",
       "6119                     0.0  "
      ]
     },
     "execution_count": 91,
     "metadata": {},
     "output_type": "execute_result"
    }
   ],
   "source": [
    "xtrain.head()"
   ]
  },
  {
   "cell_type": "code",
   "execution_count": 92,
   "metadata": {},
   "outputs": [
    {
     "data": {
      "text/plain": [
       "array([1, 1, 3, 1, 0])"
      ]
     },
     "execution_count": 92,
     "metadata": {},
     "output_type": "execute_result"
    }
   ],
   "source": [
    "ytrain[0:5]"
   ]
  },
  {
   "cell_type": "code",
   "execution_count": 93,
   "metadata": {},
   "outputs": [
    {
     "data": {
      "text/html": [
       "<div>\n",
       "<style scoped>\n",
       "    .dataframe tbody tr th:only-of-type {\n",
       "        vertical-align: middle;\n",
       "    }\n",
       "\n",
       "    .dataframe tbody tr th {\n",
       "        vertical-align: top;\n",
       "    }\n",
       "\n",
       "    .dataframe thead th {\n",
       "        text-align: right;\n",
       "    }\n",
       "</style>\n",
       "<table border=\"1\" class=\"dataframe\">\n",
       "  <thead>\n",
       "    <tr style=\"text-align: right;\">\n",
       "      <th></th>\n",
       "      <th>num__Temperature</th>\n",
       "      <th>num__Humidity</th>\n",
       "      <th>num__Wind Speed</th>\n",
       "      <th>num__Precipitation (%)</th>\n",
       "      <th>num__Atmospheric Pressure</th>\n",
       "      <th>num__UV Index</th>\n",
       "      <th>num__Visibility (km)</th>\n",
       "      <th>cat__Cloud Cover_clear</th>\n",
       "      <th>cat__Cloud Cover_cloudy</th>\n",
       "      <th>cat__Cloud Cover_overcast</th>\n",
       "      <th>cat__Cloud Cover_partly cloudy</th>\n",
       "      <th>cat__Season_Autumn</th>\n",
       "      <th>cat__Season_Spring</th>\n",
       "      <th>cat__Season_Summer</th>\n",
       "      <th>cat__Season_Winter</th>\n",
       "      <th>cat__Location_coastal</th>\n",
       "      <th>cat__Location_inland</th>\n",
       "      <th>cat__Location_mountain</th>\n",
       "    </tr>\n",
       "  </thead>\n",
       "  <tbody>\n",
       "    <tr>\n",
       "      <th>4111</th>\n",
       "      <td>0.222737</td>\n",
       "      <td>-1.520829</td>\n",
       "      <td>-0.771838</td>\n",
       "      <td>-1.491435</td>\n",
       "      <td>0.412980</td>\n",
       "      <td>1.295035</td>\n",
       "      <td>1.345768</td>\n",
       "      <td>1.0</td>\n",
       "      <td>0.0</td>\n",
       "      <td>0.0</td>\n",
       "      <td>0.0</td>\n",
       "      <td>1.0</td>\n",
       "      <td>0.0</td>\n",
       "      <td>0.0</td>\n",
       "      <td>0.0</td>\n",
       "      <td>0.0</td>\n",
       "      <td>1.0</td>\n",
       "      <td>0.0</td>\n",
       "    </tr>\n",
       "    <tr>\n",
       "      <th>10607</th>\n",
       "      <td>2.465964</td>\n",
       "      <td>1.252343</td>\n",
       "      <td>0.675666</td>\n",
       "      <td>0.918933</td>\n",
       "      <td>0.530728</td>\n",
       "      <td>1.554340</td>\n",
       "      <td>-0.433923</td>\n",
       "      <td>1.0</td>\n",
       "      <td>0.0</td>\n",
       "      <td>0.0</td>\n",
       "      <td>0.0</td>\n",
       "      <td>0.0</td>\n",
       "      <td>0.0</td>\n",
       "      <td>1.0</td>\n",
       "      <td>0.0</td>\n",
       "      <td>0.0</td>\n",
       "      <td>1.0</td>\n",
       "      <td>0.0</td>\n",
       "    </tr>\n",
       "    <tr>\n",
       "      <th>7372</th>\n",
       "      <td>1.200553</td>\n",
       "      <td>-0.877057</td>\n",
       "      <td>-1.133714</td>\n",
       "      <td>-1.303614</td>\n",
       "      <td>0.519437</td>\n",
       "      <td>1.035729</td>\n",
       "      <td>0.752538</td>\n",
       "      <td>0.0</td>\n",
       "      <td>0.0</td>\n",
       "      <td>0.0</td>\n",
       "      <td>1.0</td>\n",
       "      <td>0.0</td>\n",
       "      <td>1.0</td>\n",
       "      <td>0.0</td>\n",
       "      <td>0.0</td>\n",
       "      <td>0.0</td>\n",
       "      <td>0.0</td>\n",
       "      <td>1.0</td>\n",
       "    </tr>\n",
       "    <tr>\n",
       "      <th>11786</th>\n",
       "      <td>-1.502823</td>\n",
       "      <td>0.509529</td>\n",
       "      <td>-0.482337</td>\n",
       "      <td>1.138057</td>\n",
       "      <td>-0.329798</td>\n",
       "      <td>-1.038715</td>\n",
       "      <td>-1.175461</td>\n",
       "      <td>0.0</td>\n",
       "      <td>0.0</td>\n",
       "      <td>1.0</td>\n",
       "      <td>0.0</td>\n",
       "      <td>0.0</td>\n",
       "      <td>0.0</td>\n",
       "      <td>0.0</td>\n",
       "      <td>1.0</td>\n",
       "      <td>0.0</td>\n",
       "      <td>1.0</td>\n",
       "      <td>0.0</td>\n",
       "    </tr>\n",
       "    <tr>\n",
       "      <th>12227</th>\n",
       "      <td>0.107699</td>\n",
       "      <td>1.252343</td>\n",
       "      <td>0.024290</td>\n",
       "      <td>1.732823</td>\n",
       "      <td>0.588257</td>\n",
       "      <td>1.813646</td>\n",
       "      <td>1.049153</td>\n",
       "      <td>0.0</td>\n",
       "      <td>0.0</td>\n",
       "      <td>0.0</td>\n",
       "      <td>1.0</td>\n",
       "      <td>0.0</td>\n",
       "      <td>1.0</td>\n",
       "      <td>0.0</td>\n",
       "      <td>0.0</td>\n",
       "      <td>0.0</td>\n",
       "      <td>0.0</td>\n",
       "      <td>1.0</td>\n",
       "    </tr>\n",
       "  </tbody>\n",
       "</table>\n",
       "</div>"
      ],
      "text/plain": [
       "       num__Temperature  num__Humidity  num__Wind Speed  \\\n",
       "4111           0.222737      -1.520829        -0.771838   \n",
       "10607          2.465964       1.252343         0.675666   \n",
       "7372           1.200553      -0.877057        -1.133714   \n",
       "11786         -1.502823       0.509529        -0.482337   \n",
       "12227          0.107699       1.252343         0.024290   \n",
       "\n",
       "       num__Precipitation (%)  num__Atmospheric Pressure  num__UV Index  \\\n",
       "4111                -1.491435                   0.412980       1.295035   \n",
       "10607                0.918933                   0.530728       1.554340   \n",
       "7372                -1.303614                   0.519437       1.035729   \n",
       "11786                1.138057                  -0.329798      -1.038715   \n",
       "12227                1.732823                   0.588257       1.813646   \n",
       "\n",
       "       num__Visibility (km)  cat__Cloud Cover_clear  cat__Cloud Cover_cloudy  \\\n",
       "4111               1.345768                     1.0                      0.0   \n",
       "10607             -0.433923                     1.0                      0.0   \n",
       "7372               0.752538                     0.0                      0.0   \n",
       "11786             -1.175461                     0.0                      0.0   \n",
       "12227              1.049153                     0.0                      0.0   \n",
       "\n",
       "       cat__Cloud Cover_overcast  cat__Cloud Cover_partly cloudy  \\\n",
       "4111                         0.0                             0.0   \n",
       "10607                        0.0                             0.0   \n",
       "7372                         0.0                             1.0   \n",
       "11786                        1.0                             0.0   \n",
       "12227                        0.0                             1.0   \n",
       "\n",
       "       cat__Season_Autumn  cat__Season_Spring  cat__Season_Summer  \\\n",
       "4111                  1.0                 0.0                 0.0   \n",
       "10607                 0.0                 0.0                 1.0   \n",
       "7372                  0.0                 1.0                 0.0   \n",
       "11786                 0.0                 0.0                 0.0   \n",
       "12227                 0.0                 1.0                 0.0   \n",
       "\n",
       "       cat__Season_Winter  cat__Location_coastal  cat__Location_inland  \\\n",
       "4111                  0.0                    0.0                   1.0   \n",
       "10607                 0.0                    0.0                   1.0   \n",
       "7372                  0.0                    0.0                   0.0   \n",
       "11786                 1.0                    0.0                   1.0   \n",
       "12227                 0.0                    0.0                   0.0   \n",
       "\n",
       "       cat__Location_mountain  \n",
       "4111                      0.0  \n",
       "10607                     0.0  \n",
       "7372                      1.0  \n",
       "11786                     0.0  \n",
       "12227                     1.0  "
      ]
     },
     "execution_count": 93,
     "metadata": {},
     "output_type": "execute_result"
    }
   ],
   "source": [
    "xtest.head()"
   ]
  },
  {
   "cell_type": "code",
   "execution_count": 94,
   "metadata": {},
   "outputs": [
    {
     "data": {
      "text/plain": [
       "array([3, 3, 3, 2, 3])"
      ]
     },
     "execution_count": 94,
     "metadata": {},
     "output_type": "execute_result"
    }
   ],
   "source": [
    "ytest[0:5]"
   ]
  },
  {
   "cell_type": "code",
   "execution_count": 95,
   "metadata": {},
   "outputs": [
    {
     "data": {
      "text/plain": [
       "(10560, 18)"
      ]
     },
     "execution_count": 95,
     "metadata": {},
     "output_type": "execute_result"
    }
   ],
   "source": [
    "xtrain.shape"
   ]
  },
  {
   "cell_type": "code",
   "execution_count": 96,
   "metadata": {},
   "outputs": [
    {
     "data": {
      "text/plain": [
       "(2640, 18)"
      ]
     },
     "execution_count": 96,
     "metadata": {},
     "output_type": "execute_result"
    }
   ],
   "source": [
    "xtest.shape"
   ]
  },
  {
   "cell_type": "markdown",
   "metadata": {},
   "source": [
    "### Step 6: Model Building"
   ]
  },
  {
   "cell_type": "markdown",
   "metadata": {},
   "source": [
    "### XGboost\n",
    "~~~python\n",
    "import xgboost as xgb\n",
    "~~~\n",
    "1. Regression \n",
    "- objective - \"reg:squarederror\"\n",
    "~~~python\n",
    "model = xgb.XGBRegressor(objective=\"reg:squarederror\")\n",
    "~~~\n",
    "\n",
    "2. Binary Classification\n",
    "- objective - \"binary:logistic\"\n",
    "~~~python\n",
    "model = xgb.XGBClassifier(objective=\"binary:logistic\")\n",
    "~~~\n",
    "\n",
    "3. Multiclass Classification\n",
    "- objective - \"multi:softprob\"\n",
    "~~~python\n",
    "model = xgb.XGBClassifier(objective=\"multi:softprob\")\n",
    "~~~"
   ]
  },
  {
   "cell_type": "code",
   "execution_count": 97,
   "metadata": {},
   "outputs": [],
   "source": [
    "import xgboost as xgb"
   ]
  },
  {
   "cell_type": "code",
   "execution_count": 98,
   "metadata": {},
   "outputs": [
    {
     "data": {
      "text/html": [
       "<style>#sk-container-id-4 {color: black;}#sk-container-id-4 pre{padding: 0;}#sk-container-id-4 div.sk-toggleable {background-color: white;}#sk-container-id-4 label.sk-toggleable__label {cursor: pointer;display: block;width: 100%;margin-bottom: 0;padding: 0.3em;box-sizing: border-box;text-align: center;}#sk-container-id-4 label.sk-toggleable__label-arrow:before {content: \"▸\";float: left;margin-right: 0.25em;color: #696969;}#sk-container-id-4 label.sk-toggleable__label-arrow:hover:before {color: black;}#sk-container-id-4 div.sk-estimator:hover label.sk-toggleable__label-arrow:before {color: black;}#sk-container-id-4 div.sk-toggleable__content {max-height: 0;max-width: 0;overflow: hidden;text-align: left;background-color: #f0f8ff;}#sk-container-id-4 div.sk-toggleable__content pre {margin: 0.2em;color: black;border-radius: 0.25em;background-color: #f0f8ff;}#sk-container-id-4 input.sk-toggleable__control:checked~div.sk-toggleable__content {max-height: 200px;max-width: 100%;overflow: auto;}#sk-container-id-4 input.sk-toggleable__control:checked~label.sk-toggleable__label-arrow:before {content: \"▾\";}#sk-container-id-4 div.sk-estimator input.sk-toggleable__control:checked~label.sk-toggleable__label {background-color: #d4ebff;}#sk-container-id-4 div.sk-label input.sk-toggleable__control:checked~label.sk-toggleable__label {background-color: #d4ebff;}#sk-container-id-4 input.sk-hidden--visually {border: 0;clip: rect(1px 1px 1px 1px);clip: rect(1px, 1px, 1px, 1px);height: 1px;margin: -1px;overflow: hidden;padding: 0;position: absolute;width: 1px;}#sk-container-id-4 div.sk-estimator {font-family: monospace;background-color: #f0f8ff;border: 1px dotted black;border-radius: 0.25em;box-sizing: border-box;margin-bottom: 0.5em;}#sk-container-id-4 div.sk-estimator:hover {background-color: #d4ebff;}#sk-container-id-4 div.sk-parallel-item::after {content: \"\";width: 100%;border-bottom: 1px solid gray;flex-grow: 1;}#sk-container-id-4 div.sk-label:hover label.sk-toggleable__label {background-color: #d4ebff;}#sk-container-id-4 div.sk-serial::before {content: \"\";position: absolute;border-left: 1px solid gray;box-sizing: border-box;top: 0;bottom: 0;left: 50%;z-index: 0;}#sk-container-id-4 div.sk-serial {display: flex;flex-direction: column;align-items: center;background-color: white;padding-right: 0.2em;padding-left: 0.2em;position: relative;}#sk-container-id-4 div.sk-item {position: relative;z-index: 1;}#sk-container-id-4 div.sk-parallel {display: flex;align-items: stretch;justify-content: center;background-color: white;position: relative;}#sk-container-id-4 div.sk-item::before, #sk-container-id-4 div.sk-parallel-item::before {content: \"\";position: absolute;border-left: 1px solid gray;box-sizing: border-box;top: 0;bottom: 0;left: 50%;z-index: -1;}#sk-container-id-4 div.sk-parallel-item {display: flex;flex-direction: column;z-index: 1;position: relative;background-color: white;}#sk-container-id-4 div.sk-parallel-item:first-child::after {align-self: flex-end;width: 50%;}#sk-container-id-4 div.sk-parallel-item:last-child::after {align-self: flex-start;width: 50%;}#sk-container-id-4 div.sk-parallel-item:only-child::after {width: 0;}#sk-container-id-4 div.sk-dashed-wrapped {border: 1px dashed gray;margin: 0 0.4em 0.5em 0.4em;box-sizing: border-box;padding-bottom: 0.4em;background-color: white;}#sk-container-id-4 div.sk-label label {font-family: monospace;font-weight: bold;display: inline-block;line-height: 1.2em;}#sk-container-id-4 div.sk-label-container {text-align: center;}#sk-container-id-4 div.sk-container {/* jupyter's `normalize.less` sets `[hidden] { display: none; }` but bootstrap.min.css set `[hidden] { display: none !important; }` so we also need the `!important` here to be able to override the default hidden behavior on the sphinx rendered scikit-learn.org. See: https://github.com/scikit-learn/scikit-learn/issues/21755 */display: inline-block !important;position: relative;}#sk-container-id-4 div.sk-text-repr-fallback {display: none;}</style><div id=\"sk-container-id-4\" class=\"sk-top-container\"><div class=\"sk-text-repr-fallback\"><pre>XGBClassifier(base_score=None, booster=None, callbacks=None,\n",
       "              colsample_bylevel=None, colsample_bynode=None,\n",
       "              colsample_bytree=None, device=None, early_stopping_rounds=None,\n",
       "              enable_categorical=False, eval_metric=None, feature_types=None,\n",
       "              gamma=None, grow_policy=None, importance_type=None,\n",
       "              interaction_constraints=None, learning_rate=None, max_bin=None,\n",
       "              max_cat_threshold=None, max_cat_to_onehot=None,\n",
       "              max_delta_step=None, max_depth=3, max_leaves=None,\n",
       "              min_child_weight=None, missing=nan, monotone_constraints=None,\n",
       "              multi_strategy=None, n_estimators=300, n_jobs=None,\n",
       "              num_parallel_tree=None, objective=&#x27;multi:softprob&#x27;, ...)</pre><b>In a Jupyter environment, please rerun this cell to show the HTML representation or trust the notebook. <br />On GitHub, the HTML representation is unable to render, please try loading this page with nbviewer.org.</b></div><div class=\"sk-container\" hidden><div class=\"sk-item\"><div class=\"sk-estimator sk-toggleable\"><input class=\"sk-toggleable__control sk-hidden--visually\" id=\"sk-estimator-id-10\" type=\"checkbox\" checked><label for=\"sk-estimator-id-10\" class=\"sk-toggleable__label sk-toggleable__label-arrow\">XGBClassifier</label><div class=\"sk-toggleable__content\"><pre>XGBClassifier(base_score=None, booster=None, callbacks=None,\n",
       "              colsample_bylevel=None, colsample_bynode=None,\n",
       "              colsample_bytree=None, device=None, early_stopping_rounds=None,\n",
       "              enable_categorical=False, eval_metric=None, feature_types=None,\n",
       "              gamma=None, grow_policy=None, importance_type=None,\n",
       "              interaction_constraints=None, learning_rate=None, max_bin=None,\n",
       "              max_cat_threshold=None, max_cat_to_onehot=None,\n",
       "              max_delta_step=None, max_depth=3, max_leaves=None,\n",
       "              min_child_weight=None, missing=nan, monotone_constraints=None,\n",
       "              multi_strategy=None, n_estimators=300, n_jobs=None,\n",
       "              num_parallel_tree=None, objective=&#x27;multi:softprob&#x27;, ...)</pre></div></div></div></div></div>"
      ],
      "text/plain": [
       "XGBClassifier(base_score=None, booster=None, callbacks=None,\n",
       "              colsample_bylevel=None, colsample_bynode=None,\n",
       "              colsample_bytree=None, device=None, early_stopping_rounds=None,\n",
       "              enable_categorical=False, eval_metric=None, feature_types=None,\n",
       "              gamma=None, grow_policy=None, importance_type=None,\n",
       "              interaction_constraints=None, learning_rate=None, max_bin=None,\n",
       "              max_cat_threshold=None, max_cat_to_onehot=None,\n",
       "              max_delta_step=None, max_depth=3, max_leaves=None,\n",
       "              min_child_weight=None, missing=nan, monotone_constraints=None,\n",
       "              multi_strategy=None, n_estimators=300, n_jobs=None,\n",
       "              num_parallel_tree=None, objective='multi:softprob', ...)"
      ]
     },
     "execution_count": 98,
     "metadata": {},
     "output_type": "execute_result"
    }
   ],
   "source": [
    "model = xgb.XGBClassifier(objective=\"multi:softprob\",\n",
    "                          n_estimators=300,\n",
    "                          max_depth=3,\n",
    "                          random_state=42)\n",
    "model.fit(xtrain, ytrain, \n",
    "          eval_set=[(xtrain, ytrain), (xtest, ytest)], \n",
    "          verbose=False)"
   ]
  },
  {
   "cell_type": "markdown",
   "metadata": {},
   "source": [
    "### Step 7 : Model Evaluation"
   ]
  },
  {
   "cell_type": "code",
   "execution_count": 99,
   "metadata": {},
   "outputs": [
    {
     "data": {
      "text/plain": [
       "0.9961174242424242"
      ]
     },
     "execution_count": 99,
     "metadata": {},
     "output_type": "execute_result"
    }
   ],
   "source": [
    "model.score(xtrain, ytrain)"
   ]
  },
  {
   "cell_type": "code",
   "execution_count": 100,
   "metadata": {},
   "outputs": [
    {
     "data": {
      "text/plain": [
       "0.9128787878787878"
      ]
     },
     "execution_count": 100,
     "metadata": {},
     "output_type": "execute_result"
    }
   ],
   "source": [
    "model.score(xtest, ytest)"
   ]
  },
  {
   "cell_type": "code",
   "execution_count": 101,
   "metadata": {},
   "outputs": [],
   "source": [
    "from sklearn.model_selection import cross_val_score\n",
    "scores = cross_val_score(model, xtrain, ytrain, cv=5, scoring='f1_macro')"
   ]
  },
  {
   "cell_type": "code",
   "execution_count": 102,
   "metadata": {},
   "outputs": [
    {
     "data": {
      "text/plain": [
       "array([0.91911932, 0.9086168 , 0.90742918, 0.91393434, 0.92101424])"
      ]
     },
     "execution_count": 102,
     "metadata": {},
     "output_type": "execute_result"
    }
   ],
   "source": [
    "scores\n"
   ]
  },
  {
   "cell_type": "code",
   "execution_count": 103,
   "metadata": {},
   "outputs": [
    {
     "data": {
      "text/plain": [
       "0.9140227744821485"
      ]
     },
     "execution_count": 103,
     "metadata": {},
     "output_type": "execute_result"
    }
   ],
   "source": [
    "scores.mean()"
   ]
  },
  {
   "cell_type": "code",
   "execution_count": 104,
   "metadata": {},
   "outputs": [
    {
     "data": {
      "text/plain": [
       "<sklearn.metrics._plot.confusion_matrix.ConfusionMatrixDisplay at 0x2042ee66450>"
      ]
     },
     "execution_count": 104,
     "metadata": {},
     "output_type": "execute_result"
    },
    {
     "data": {
      "image/png": "[encoded data removed]",
      "text/plain": [
       "<Figure size 640x480 with 2 Axes>"
      ]
     },
     "metadata": {},
     "output_type": "display_data"
    }
   ],
   "source": [
    "from sklearn.metrics import ConfusionMatrixDisplay\n",
    "ConfusionMatrixDisplay.from_estimator(model, xtest, ytest)"
   ]
  },
  {
   "cell_type": "markdown",
   "metadata": {},
   "source": [
    "### Predict for train and test"
   ]
  },
  {
   "cell_type": "code",
   "execution_count": 105,
   "metadata": {},
   "outputs": [],
   "source": [
    "ypred_train = model.predict(xtrain)\n",
    "ypred_test = model.predict(xtest)"
   ]
  },
  {
   "cell_type": "code",
   "execution_count": 106,
   "metadata": {},
   "outputs": [
    {
     "data": {
      "text/plain": [
       "array([3, 3, 3, 2, 3], dtype=int64)"
      ]
     },
     "execution_count": 106,
     "metadata": {},
     "output_type": "execute_result"
    }
   ],
   "source": [
    "ypred_test[0:5]"
   ]
  },
  {
   "cell_type": "code",
   "execution_count": 107,
   "metadata": {},
   "outputs": [
    {
     "data": {
      "text/plain": [
       "array([3, 3, 3, 2, 3])"
      ]
     },
     "execution_count": 107,
     "metadata": {},
     "output_type": "execute_result"
    }
   ],
   "source": [
    "ytest[0:5]"
   ]
  },
  {
   "cell_type": "code",
   "execution_count": 108,
   "metadata": {},
   "outputs": [
    {
     "name": "stdout",
     "output_type": "stream",
     "text": [
      "              precision    recall  f1-score   support\n",
      "\n",
      "           0       0.88      0.90      0.89       651\n",
      "           1       0.90      0.91      0.91       647\n",
      "           2       0.92      0.94      0.93       701\n",
      "           3       0.95      0.90      0.92       641\n",
      "\n",
      "    accuracy                           0.91      2640\n",
      "   macro avg       0.91      0.91      0.91      2640\n",
      "weighted avg       0.91      0.91      0.91      2640\n",
      "\n"
     ]
    }
   ],
   "source": [
    "from sklearn.metrics import classification_report\n",
    "print(classification_report(ytest, ypred_test))"
   ]
  },
  {
   "cell_type": "code",
   "execution_count": 109,
   "metadata": {},
   "outputs": [
    {
     "data": {
      "text/html": [
       "<style>#sk-container-id-5 {color: black;}#sk-container-id-5 pre{padding: 0;}#sk-container-id-5 div.sk-toggleable {background-color: white;}#sk-container-id-5 label.sk-toggleable__label {cursor: pointer;display: block;width: 100%;margin-bottom: 0;padding: 0.3em;box-sizing: border-box;text-align: center;}#sk-container-id-5 label.sk-toggleable__label-arrow:before {content: \"▸\";float: left;margin-right: 0.25em;color: #696969;}#sk-container-id-5 label.sk-toggleable__label-arrow:hover:before {color: black;}#sk-container-id-5 div.sk-estimator:hover label.sk-toggleable__label-arrow:before {color: black;}#sk-container-id-5 div.sk-toggleable__content {max-height: 0;max-width: 0;overflow: hidden;text-align: left;background-color: #f0f8ff;}#sk-container-id-5 div.sk-toggleable__content pre {margin: 0.2em;color: black;border-radius: 0.25em;background-color: #f0f8ff;}#sk-container-id-5 input.sk-toggleable__control:checked~div.sk-toggleable__content {max-height: 200px;max-width: 100%;overflow: auto;}#sk-container-id-5 input.sk-toggleable__control:checked~label.sk-toggleable__label-arrow:before {content: \"▾\";}#sk-container-id-5 div.sk-estimator input.sk-toggleable__control:checked~label.sk-toggleable__label {background-color: #d4ebff;}#sk-container-id-5 div.sk-label input.sk-toggleable__control:checked~label.sk-toggleable__label {background-color: #d4ebff;}#sk-container-id-5 input.sk-hidden--visually {border: 0;clip: rect(1px 1px 1px 1px);clip: rect(1px, 1px, 1px, 1px);height: 1px;margin: -1px;overflow: hidden;padding: 0;position: absolute;width: 1px;}#sk-container-id-5 div.sk-estimator {font-family: monospace;background-color: #f0f8ff;border: 1px dotted black;border-radius: 0.25em;box-sizing: border-box;margin-bottom: 0.5em;}#sk-container-id-5 div.sk-estimator:hover {background-color: #d4ebff;}#sk-container-id-5 div.sk-parallel-item::after {content: \"\";width: 100%;border-bottom: 1px solid gray;flex-grow: 1;}#sk-container-id-5 div.sk-label:hover label.sk-toggleable__label {background-color: #d4ebff;}#sk-container-id-5 div.sk-serial::before {content: \"\";position: absolute;border-left: 1px solid gray;box-sizing: border-box;top: 0;bottom: 0;left: 50%;z-index: 0;}#sk-container-id-5 div.sk-serial {display: flex;flex-direction: column;align-items: center;background-color: white;padding-right: 0.2em;padding-left: 0.2em;position: relative;}#sk-container-id-5 div.sk-item {position: relative;z-index: 1;}#sk-container-id-5 div.sk-parallel {display: flex;align-items: stretch;justify-content: center;background-color: white;position: relative;}#sk-container-id-5 div.sk-item::before, #sk-container-id-5 div.sk-parallel-item::before {content: \"\";position: absolute;border-left: 1px solid gray;box-sizing: border-box;top: 0;bottom: 0;left: 50%;z-index: -1;}#sk-container-id-5 div.sk-parallel-item {display: flex;flex-direction: column;z-index: 1;position: relative;background-color: white;}#sk-container-id-5 div.sk-parallel-item:first-child::after {align-self: flex-end;width: 50%;}#sk-container-id-5 div.sk-parallel-item:last-child::after {align-self: flex-start;width: 50%;}#sk-container-id-5 div.sk-parallel-item:only-child::after {width: 0;}#sk-container-id-5 div.sk-dashed-wrapped {border: 1px dashed gray;margin: 0 0.4em 0.5em 0.4em;box-sizing: border-box;padding-bottom: 0.4em;background-color: white;}#sk-container-id-5 div.sk-label label {font-family: monospace;font-weight: bold;display: inline-block;line-height: 1.2em;}#sk-container-id-5 div.sk-label-container {text-align: center;}#sk-container-id-5 div.sk-container {/* jupyter's `normalize.less` sets `[hidden] { display: none; }` but bootstrap.min.css set `[hidden] { display: none !important; }` so we also need the `!important` here to be able to override the default hidden behavior on the sphinx rendered scikit-learn.org. See: https://github.com/scikit-learn/scikit-learn/issues/21755 */display: inline-block !important;position: relative;}#sk-container-id-5 div.sk-text-repr-fallback {display: none;}</style><div id=\"sk-container-id-5\" class=\"sk-top-container\"><div class=\"sk-text-repr-fallback\"><pre>LabelEncoder()</pre><b>In a Jupyter environment, please rerun this cell to show the HTML representation or trust the notebook. <br />On GitHub, the HTML representation is unable to render, please try loading this page with nbviewer.org.</b></div><div class=\"sk-container\" hidden><div class=\"sk-item\"><div class=\"sk-estimator sk-toggleable\"><input class=\"sk-toggleable__control sk-hidden--visually\" id=\"sk-estimator-id-11\" type=\"checkbox\" checked><label for=\"sk-estimator-id-11\" class=\"sk-toggleable__label sk-toggleable__label-arrow\">LabelEncoder</label><div class=\"sk-toggleable__content\"><pre>LabelEncoder()</pre></div></div></div></div></div>"
      ],
      "text/plain": [
       "LabelEncoder()"
      ]
     },
     "execution_count": 109,
     "metadata": {},
     "output_type": "execute_result"
    }
   ],
   "source": [
    "le"
   ]
  },
  {
   "cell_type": "code",
   "execution_count": 110,
   "metadata": {},
   "outputs": [],
   "source": [
    "ypred_train_lab = le.inverse_transform(ypred_train)\n",
    "ypred_test_lab = le.inverse_transform(ypred_test)"
   ]
  },
  {
   "cell_type": "code",
   "execution_count": 111,
   "metadata": {},
   "outputs": [
    {
     "data": {
      "text/plain": [
       "array(['Sunny', 'Sunny', 'Sunny', 'Snowy', 'Sunny'], dtype=object)"
      ]
     },
     "execution_count": 111,
     "metadata": {},
     "output_type": "execute_result"
    }
   ],
   "source": [
    "ypred_test_lab[0:5]"
   ]
  },
  {
   "cell_type": "code",
   "execution_count": 112,
   "metadata": {},
   "outputs": [
    {
     "data": {
      "text/plain": [
       "array(['Rainy', 'Rainy', 'Sunny', 'Rainy', 'Cloudy'], dtype=object)"
      ]
     },
     "execution_count": 112,
     "metadata": {},
     "output_type": "execute_result"
    }
   ],
   "source": [
    "ypred_train_lab[0:5]"
   ]
  },
  {
   "cell_type": "markdown",
   "metadata": {},
   "source": [
    "### Step 9: Out of sample prediction"
   ]
  },
  {
   "cell_type": "code",
   "execution_count": 113,
   "metadata": {},
   "outputs": [],
   "source": [
    "xnew = pd.read_csv(\"test_weather.csv\")"
   ]
  },
  {
   "cell_type": "code",
   "execution_count": 114,
   "metadata": {},
   "outputs": [
    {
     "data": {
      "text/html": [
       "<div>\n",
       "<style scoped>\n",
       "    .dataframe tbody tr th:only-of-type {\n",
       "        vertical-align: middle;\n",
       "    }\n",
       "\n",
       "    .dataframe tbody tr th {\n",
       "        vertical-align: top;\n",
       "    }\n",
       "\n",
       "    .dataframe thead th {\n",
       "        text-align: right;\n",
       "    }\n",
       "</style>\n",
       "<table border=\"1\" class=\"dataframe\">\n",
       "  <thead>\n",
       "    <tr style=\"text-align: right;\">\n",
       "      <th></th>\n",
       "      <th>Temperature</th>\n",
       "      <th>Humidity</th>\n",
       "      <th>Wind Speed</th>\n",
       "      <th>Precipitation (%)</th>\n",
       "      <th>Cloud Cover</th>\n",
       "      <th>Atmospheric Pressure</th>\n",
       "      <th>UV Index</th>\n",
       "      <th>Season</th>\n",
       "      <th>Visibility (km)</th>\n",
       "      <th>Location</th>\n",
       "    </tr>\n",
       "  </thead>\n",
       "  <tbody>\n",
       "    <tr>\n",
       "      <th>0</th>\n",
       "      <td>0</td>\n",
       "      <td>68</td>\n",
       "      <td>16.0</td>\n",
       "      <td>66.0</td>\n",
       "      <td>overcast</td>\n",
       "      <td>984.94</td>\n",
       "      <td>0</td>\n",
       "      <td>Winter</td>\n",
       "      <td>2.0</td>\n",
       "      <td>mountain</td>\n",
       "    </tr>\n",
       "    <tr>\n",
       "      <th>1</th>\n",
       "      <td>107</td>\n",
       "      <td>107</td>\n",
       "      <td>15.0</td>\n",
       "      <td>83.0</td>\n",
       "      <td>partly cloudy</td>\n",
       "      <td>1015.00</td>\n",
       "      <td>11</td>\n",
       "      <td>Summer</td>\n",
       "      <td>7.0</td>\n",
       "      <td>mountain</td>\n",
       "    </tr>\n",
       "    <tr>\n",
       "      <th>2</th>\n",
       "      <td>19</td>\n",
       "      <td>76</td>\n",
       "      <td>12.5</td>\n",
       "      <td>35.0</td>\n",
       "      <td>partly cloudy</td>\n",
       "      <td>1017.26</td>\n",
       "      <td>4</td>\n",
       "      <td>Summer</td>\n",
       "      <td>8.0</td>\n",
       "      <td>inland</td>\n",
       "    </tr>\n",
       "    <tr>\n",
       "      <th>3</th>\n",
       "      <td>22</td>\n",
       "      <td>99</td>\n",
       "      <td>18.5</td>\n",
       "      <td>NaN</td>\n",
       "      <td>partly cloudy</td>\n",
       "      <td>1012.70</td>\n",
       "      <td>0</td>\n",
       "      <td>NaN</td>\n",
       "      <td>3.5</td>\n",
       "      <td>inland</td>\n",
       "    </tr>\n",
       "    <tr>\n",
       "      <th>4</th>\n",
       "      <td>33</td>\n",
       "      <td>25</td>\n",
       "      <td>8.0</td>\n",
       "      <td>6.0</td>\n",
       "      <td>partly cloudy</td>\n",
       "      <td>1023.77</td>\n",
       "      <td>6</td>\n",
       "      <td>Spring</td>\n",
       "      <td>NaN</td>\n",
       "      <td>inland</td>\n",
       "    </tr>\n",
       "  </tbody>\n",
       "</table>\n",
       "</div>"
      ],
      "text/plain": [
       "   Temperature  Humidity  Wind Speed  Precipitation (%)    Cloud Cover  \\\n",
       "0            0        68        16.0               66.0       overcast   \n",
       "1          107       107        15.0               83.0  partly cloudy   \n",
       "2           19        76        12.5               35.0  partly cloudy   \n",
       "3           22        99        18.5                NaN  partly cloudy   \n",
       "4           33        25         8.0                6.0  partly cloudy   \n",
       "\n",
       "   Atmospheric Pressure  UV Index  Season  Visibility (km)  Location  \n",
       "0                984.94         0  Winter              2.0  mountain  \n",
       "1               1015.00        11  Summer              7.0  mountain  \n",
       "2               1017.26         4  Summer              8.0    inland  \n",
       "3               1012.70         0     NaN              3.5    inland  \n",
       "4               1023.77         6  Spring              NaN    inland  "
      ]
     },
     "execution_count": 114,
     "metadata": {},
     "output_type": "execute_result"
    }
   ],
   "source": [
    "xnew.head()"
   ]
  },
  {
   "cell_type": "code",
   "execution_count": 115,
   "metadata": {},
   "outputs": [
    {
     "data": {
      "text/plain": [
       "(100, 10)"
      ]
     },
     "execution_count": 115,
     "metadata": {},
     "output_type": "execute_result"
    }
   ],
   "source": [
    "xnew.shape"
   ]
  },
  {
   "cell_type": "code",
   "execution_count": 116,
   "metadata": {},
   "outputs": [
    {
     "data": {
      "text/html": [
       "<style>#sk-container-id-6 {color: black;}#sk-container-id-6 pre{padding: 0;}#sk-container-id-6 div.sk-toggleable {background-color: white;}#sk-container-id-6 label.sk-toggleable__label {cursor: pointer;display: block;width: 100%;margin-bottom: 0;padding: 0.3em;box-sizing: border-box;text-align: center;}#sk-container-id-6 label.sk-toggleable__label-arrow:before {content: \"▸\";float: left;margin-right: 0.25em;color: #696969;}#sk-container-id-6 label.sk-toggleable__label-arrow:hover:before {color: black;}#sk-container-id-6 div.sk-estimator:hover label.sk-toggleable__label-arrow:before {color: black;}#sk-container-id-6 div.sk-toggleable__content {max-height: 0;max-width: 0;overflow: hidden;text-align: left;background-color: #f0f8ff;}#sk-container-id-6 div.sk-toggleable__content pre {margin: 0.2em;color: black;border-radius: 0.25em;background-color: #f0f8ff;}#sk-container-id-6 input.sk-toggleable__control:checked~div.sk-toggleable__content {max-height: 200px;max-width: 100%;overflow: auto;}#sk-container-id-6 input.sk-toggleable__control:checked~label.sk-toggleable__label-arrow:before {content: \"▾\";}#sk-container-id-6 div.sk-estimator input.sk-toggleable__control:checked~label.sk-toggleable__label {background-color: #d4ebff;}#sk-container-id-6 div.sk-label input.sk-toggleable__control:checked~label.sk-toggleable__label {background-color: #d4ebff;}#sk-container-id-6 input.sk-hidden--visually {border: 0;clip: rect(1px 1px 1px 1px);clip: rect(1px, 1px, 1px, 1px);height: 1px;margin: -1px;overflow: hidden;padding: 0;position: absolute;width: 1px;}#sk-container-id-6 div.sk-estimator {font-family: monospace;background-color: #f0f8ff;border: 1px dotted black;border-radius: 0.25em;box-sizing: border-box;margin-bottom: 0.5em;}#sk-container-id-6 div.sk-estimator:hover {background-color: #d4ebff;}#sk-container-id-6 div.sk-parallel-item::after {content: \"\";width: 100%;border-bottom: 1px solid gray;flex-grow: 1;}#sk-container-id-6 div.sk-label:hover label.sk-toggleable__label {background-color: #d4ebff;}#sk-container-id-6 div.sk-serial::before {content: \"\";position: absolute;border-left: 1px solid gray;box-sizing: border-box;top: 0;bottom: 0;left: 50%;z-index: 0;}#sk-container-id-6 div.sk-serial {display: flex;flex-direction: column;align-items: center;background-color: white;padding-right: 0.2em;padding-left: 0.2em;position: relative;}#sk-container-id-6 div.sk-item {position: relative;z-index: 1;}#sk-container-id-6 div.sk-parallel {display: flex;align-items: stretch;justify-content: center;background-color: white;position: relative;}#sk-container-id-6 div.sk-item::before, #sk-container-id-6 div.sk-parallel-item::before {content: \"\";position: absolute;border-left: 1px solid gray;box-sizing: border-box;top: 0;bottom: 0;left: 50%;z-index: -1;}#sk-container-id-6 div.sk-parallel-item {display: flex;flex-direction: column;z-index: 1;position: relative;background-color: white;}#sk-container-id-6 div.sk-parallel-item:first-child::after {align-self: flex-end;width: 50%;}#sk-container-id-6 div.sk-parallel-item:last-child::after {align-self: flex-start;width: 50%;}#sk-container-id-6 div.sk-parallel-item:only-child::after {width: 0;}#sk-container-id-6 div.sk-dashed-wrapped {border: 1px dashed gray;margin: 0 0.4em 0.5em 0.4em;box-sizing: border-box;padding-bottom: 0.4em;background-color: white;}#sk-container-id-6 div.sk-label label {font-family: monospace;font-weight: bold;display: inline-block;line-height: 1.2em;}#sk-container-id-6 div.sk-label-container {text-align: center;}#sk-container-id-6 div.sk-container {/* jupyter's `normalize.less` sets `[hidden] { display: none; }` but bootstrap.min.css set `[hidden] { display: none !important; }` so we also need the `!important` here to be able to override the default hidden behavior on the sphinx rendered scikit-learn.org. See: https://github.com/scikit-learn/scikit-learn/issues/21755 */display: inline-block !important;position: relative;}#sk-container-id-6 div.sk-text-repr-fallback {display: none;}</style><div id=\"sk-container-id-6\" class=\"sk-top-container\"><div class=\"sk-text-repr-fallback\"><pre>ColumnTransformer(transformers=[(&#x27;num&#x27;,\n",
       "                                 Pipeline(steps=[(&#x27;impute&#x27;,\n",
       "                                                  SimpleImputer(strategy=&#x27;median&#x27;)),\n",
       "                                                 (&#x27;scaler&#x27;, StandardScaler())]),\n",
       "                                 [&#x27;Temperature&#x27;, &#x27;Humidity&#x27;, &#x27;Wind Speed&#x27;,\n",
       "                                  &#x27;Precipitation (%)&#x27;, &#x27;Atmospheric Pressure&#x27;,\n",
       "                                  &#x27;UV Index&#x27;, &#x27;Visibility (km)&#x27;]),\n",
       "                                (&#x27;cat&#x27;,\n",
       "                                 Pipeline(steps=[(&#x27;impute&#x27;,\n",
       "                                                  SimpleImputer(strategy=&#x27;most_frequent&#x27;)),\n",
       "                                                 (&#x27;ohe&#x27;,\n",
       "                                                  OneHotEncoder(handle_unknown=&#x27;ignore&#x27;,\n",
       "                                                                sparse_output=False))]),\n",
       "                                 [&#x27;Cloud Cover&#x27;, &#x27;Season&#x27;, &#x27;Location&#x27;])])</pre><b>In a Jupyter environment, please rerun this cell to show the HTML representation or trust the notebook. <br />On GitHub, the HTML representation is unable to render, please try loading this page with nbviewer.org.</b></div><div class=\"sk-container\" hidden><div class=\"sk-item sk-dashed-wrapped\"><div class=\"sk-label-container\"><div class=\"sk-label sk-toggleable\"><input class=\"sk-toggleable__control sk-hidden--visually\" id=\"sk-estimator-id-12\" type=\"checkbox\" ><label for=\"sk-estimator-id-12\" class=\"sk-toggleable__label sk-toggleable__label-arrow\">ColumnTransformer</label><div class=\"sk-toggleable__content\"><pre>ColumnTransformer(transformers=[(&#x27;num&#x27;,\n",
       "                                 Pipeline(steps=[(&#x27;impute&#x27;,\n",
       "                                                  SimpleImputer(strategy=&#x27;median&#x27;)),\n",
       "                                                 (&#x27;scaler&#x27;, StandardScaler())]),\n",
       "                                 [&#x27;Temperature&#x27;, &#x27;Humidity&#x27;, &#x27;Wind Speed&#x27;,\n",
       "                                  &#x27;Precipitation (%)&#x27;, &#x27;Atmospheric Pressure&#x27;,\n",
       "                                  &#x27;UV Index&#x27;, &#x27;Visibility (km)&#x27;]),\n",
       "                                (&#x27;cat&#x27;,\n",
       "                                 Pipeline(steps=[(&#x27;impute&#x27;,\n",
       "                                                  SimpleImputer(strategy=&#x27;most_frequent&#x27;)),\n",
       "                                                 (&#x27;ohe&#x27;,\n",
       "                                                  OneHotEncoder(handle_unknown=&#x27;ignore&#x27;,\n",
       "                                                                sparse_output=False))]),\n",
       "                                 [&#x27;Cloud Cover&#x27;, &#x27;Season&#x27;, &#x27;Location&#x27;])])</pre></div></div></div><div class=\"sk-parallel\"><div class=\"sk-parallel-item\"><div class=\"sk-item\"><div class=\"sk-label-container\"><div class=\"sk-label sk-toggleable\"><input class=\"sk-toggleable__control sk-hidden--visually\" id=\"sk-estimator-id-13\" type=\"checkbox\" ><label for=\"sk-estimator-id-13\" class=\"sk-toggleable__label sk-toggleable__label-arrow\">num</label><div class=\"sk-toggleable__content\"><pre>[&#x27;Temperature&#x27;, &#x27;Humidity&#x27;, &#x27;Wind Speed&#x27;, &#x27;Precipitation (%)&#x27;, &#x27;Atmospheric Pressure&#x27;, &#x27;UV Index&#x27;, &#x27;Visibility (km)&#x27;]</pre></div></div></div><div class=\"sk-serial\"><div class=\"sk-item\"><div class=\"sk-serial\"><div class=\"sk-item\"><div class=\"sk-estimator sk-toggleable\"><input class=\"sk-toggleable__control sk-hidden--visually\" id=\"sk-estimator-id-14\" type=\"checkbox\" ><label for=\"sk-estimator-id-14\" class=\"sk-toggleable__label sk-toggleable__label-arrow\">SimpleImputer</label><div class=\"sk-toggleable__content\"><pre>SimpleImputer(strategy=&#x27;median&#x27;)</pre></div></div></div><div class=\"sk-item\"><div class=\"sk-estimator sk-toggleable\"><input class=\"sk-toggleable__control sk-hidden--visually\" id=\"sk-estimator-id-15\" type=\"checkbox\" ><label for=\"sk-estimator-id-15\" class=\"sk-toggleable__label sk-toggleable__label-arrow\">StandardScaler</label><div class=\"sk-toggleable__content\"><pre>StandardScaler()</pre></div></div></div></div></div></div></div></div><div class=\"sk-parallel-item\"><div class=\"sk-item\"><div class=\"sk-label-container\"><div class=\"sk-label sk-toggleable\"><input class=\"sk-toggleable__control sk-hidden--visually\" id=\"sk-estimator-id-16\" type=\"checkbox\" ><label for=\"sk-estimator-id-16\" class=\"sk-toggleable__label sk-toggleable__label-arrow\">cat</label><div class=\"sk-toggleable__content\"><pre>[&#x27;Cloud Cover&#x27;, &#x27;Season&#x27;, &#x27;Location&#x27;]</pre></div></div></div><div class=\"sk-serial\"><div class=\"sk-item\"><div class=\"sk-serial\"><div class=\"sk-item\"><div class=\"sk-estimator sk-toggleable\"><input class=\"sk-toggleable__control sk-hidden--visually\" id=\"sk-estimator-id-17\" type=\"checkbox\" ><label for=\"sk-estimator-id-17\" class=\"sk-toggleable__label sk-toggleable__label-arrow\">SimpleImputer</label><div class=\"sk-toggleable__content\"><pre>SimpleImputer(strategy=&#x27;most_frequent&#x27;)</pre></div></div></div><div class=\"sk-item\"><div class=\"sk-estimator sk-toggleable\"><input class=\"sk-toggleable__control sk-hidden--visually\" id=\"sk-estimator-id-18\" type=\"checkbox\" ><label for=\"sk-estimator-id-18\" class=\"sk-toggleable__label sk-toggleable__label-arrow\">OneHotEncoder</label><div class=\"sk-toggleable__content\"><pre>OneHotEncoder(handle_unknown=&#x27;ignore&#x27;, sparse_output=False)</pre></div></div></div></div></div></div></div></div></div></div></div></div>"
      ],
      "text/plain": [
       "ColumnTransformer(transformers=[('num',\n",
       "                                 Pipeline(steps=[('impute',\n",
       "                                                  SimpleImputer(strategy='median')),\n",
       "                                                 ('scaler', StandardScaler())]),\n",
       "                                 ['Temperature', 'Humidity', 'Wind Speed',\n",
       "                                  'Precipitation (%)', 'Atmospheric Pressure',\n",
       "                                  'UV Index', 'Visibility (km)']),\n",
       "                                ('cat',\n",
       "                                 Pipeline(steps=[('impute',\n",
       "                                                  SimpleImputer(strategy='most_frequent')),\n",
       "                                                 ('ohe',\n",
       "                                                  OneHotEncoder(handle_unknown='ignore',\n",
       "                                                                sparse_output=False))]),\n",
       "                                 ['Cloud Cover', 'Season', 'Location'])])"
      ]
     },
     "execution_count": 116,
     "metadata": {},
     "output_type": "execute_result"
    }
   ],
   "source": [
    "pre"
   ]
  },
  {
   "cell_type": "code",
   "execution_count": 117,
   "metadata": {},
   "outputs": [
    {
     "data": {
      "text/html": [
       "<div>\n",
       "<style scoped>\n",
       "    .dataframe tbody tr th:only-of-type {\n",
       "        vertical-align: middle;\n",
       "    }\n",
       "\n",
       "    .dataframe tbody tr th {\n",
       "        vertical-align: top;\n",
       "    }\n",
       "\n",
       "    .dataframe thead th {\n",
       "        text-align: right;\n",
       "    }\n",
       "</style>\n",
       "<table border=\"1\" class=\"dataframe\">\n",
       "  <thead>\n",
       "    <tr style=\"text-align: right;\">\n",
       "      <th></th>\n",
       "      <th>num__Temperature</th>\n",
       "      <th>num__Humidity</th>\n",
       "      <th>num__Wind Speed</th>\n",
       "      <th>num__Precipitation (%)</th>\n",
       "      <th>num__Atmospheric Pressure</th>\n",
       "      <th>num__UV Index</th>\n",
       "      <th>num__Visibility (km)</th>\n",
       "      <th>cat__Cloud Cover_clear</th>\n",
       "      <th>cat__Cloud Cover_cloudy</th>\n",
       "      <th>cat__Cloud Cover_overcast</th>\n",
       "      <th>cat__Cloud Cover_partly cloudy</th>\n",
       "      <th>cat__Season_Autumn</th>\n",
       "      <th>cat__Season_Spring</th>\n",
       "      <th>cat__Season_Summer</th>\n",
       "      <th>cat__Season_Winter</th>\n",
       "      <th>cat__Location_coastal</th>\n",
       "      <th>cat__Location_inland</th>\n",
       "      <th>cat__Location_mountain</th>\n",
       "    </tr>\n",
       "  </thead>\n",
       "  <tbody>\n",
       "    <tr>\n",
       "      <th>0</th>\n",
       "      <td>-1.100192</td>\n",
       "      <td>-0.035201</td>\n",
       "      <td>0.892792</td>\n",
       "      <td>0.386773</td>\n",
       "      <td>-0.561530</td>\n",
       "      <td>-1.038715</td>\n",
       "      <td>-1.027154</td>\n",
       "      <td>0.0</td>\n",
       "      <td>0.0</td>\n",
       "      <td>1.0</td>\n",
       "      <td>0.0</td>\n",
       "      <td>0.0</td>\n",
       "      <td>0.0</td>\n",
       "      <td>0.0</td>\n",
       "      <td>1.0</td>\n",
       "      <td>0.0</td>\n",
       "      <td>0.0</td>\n",
       "      <td>1.0</td>\n",
       "    </tr>\n",
       "    <tr>\n",
       "      <th>1</th>\n",
       "      <td>5.054302</td>\n",
       "      <td>1.896115</td>\n",
       "      <td>0.748042</td>\n",
       "      <td>0.918933</td>\n",
       "      <td>0.246574</td>\n",
       "      <td>1.813646</td>\n",
       "      <td>0.455922</td>\n",
       "      <td>0.0</td>\n",
       "      <td>0.0</td>\n",
       "      <td>0.0</td>\n",
       "      <td>1.0</td>\n",
       "      <td>0.0</td>\n",
       "      <td>0.0</td>\n",
       "      <td>1.0</td>\n",
       "      <td>0.0</td>\n",
       "      <td>0.0</td>\n",
       "      <td>0.0</td>\n",
       "      <td>1.0</td>\n",
       "    </tr>\n",
       "    <tr>\n",
       "      <th>2</th>\n",
       "      <td>-0.007338</td>\n",
       "      <td>0.360966</td>\n",
       "      <td>0.386166</td>\n",
       "      <td>-0.583634</td>\n",
       "      <td>0.307330</td>\n",
       "      <td>-0.001493</td>\n",
       "      <td>0.752538</td>\n",
       "      <td>0.0</td>\n",
       "      <td>0.0</td>\n",
       "      <td>0.0</td>\n",
       "      <td>1.0</td>\n",
       "      <td>0.0</td>\n",
       "      <td>0.0</td>\n",
       "      <td>1.0</td>\n",
       "      <td>0.0</td>\n",
       "      <td>0.0</td>\n",
       "      <td>1.0</td>\n",
       "      <td>0.0</td>\n",
       "    </tr>\n",
       "    <tr>\n",
       "      <th>3</th>\n",
       "      <td>0.165218</td>\n",
       "      <td>1.499948</td>\n",
       "      <td>1.254668</td>\n",
       "      <td>0.136346</td>\n",
       "      <td>0.184743</td>\n",
       "      <td>-1.038715</td>\n",
       "      <td>-0.582231</td>\n",
       "      <td>0.0</td>\n",
       "      <td>0.0</td>\n",
       "      <td>0.0</td>\n",
       "      <td>1.0</td>\n",
       "      <td>0.0</td>\n",
       "      <td>0.0</td>\n",
       "      <td>0.0</td>\n",
       "      <td>1.0</td>\n",
       "      <td>0.0</td>\n",
       "      <td>1.0</td>\n",
       "      <td>0.0</td>\n",
       "    </tr>\n",
       "    <tr>\n",
       "      <th>4</th>\n",
       "      <td>0.797923</td>\n",
       "      <td>-2.164601</td>\n",
       "      <td>-0.265211</td>\n",
       "      <td>-1.491435</td>\n",
       "      <td>0.482338</td>\n",
       "      <td>0.517118</td>\n",
       "      <td>-0.137308</td>\n",
       "      <td>0.0</td>\n",
       "      <td>0.0</td>\n",
       "      <td>0.0</td>\n",
       "      <td>1.0</td>\n",
       "      <td>0.0</td>\n",
       "      <td>1.0</td>\n",
       "      <td>0.0</td>\n",
       "      <td>0.0</td>\n",
       "      <td>0.0</td>\n",
       "      <td>1.0</td>\n",
       "      <td>0.0</td>\n",
       "    </tr>\n",
       "  </tbody>\n",
       "</table>\n",
       "</div>"
      ],
      "text/plain": [
       "   num__Temperature  num__Humidity  num__Wind Speed  num__Precipitation (%)  \\\n",
       "0         -1.100192      -0.035201         0.892792                0.386773   \n",
       "1          5.054302       1.896115         0.748042                0.918933   \n",
       "2         -0.007338       0.360966         0.386166               -0.583634   \n",
       "3          0.165218       1.499948         1.254668                0.136346   \n",
       "4          0.797923      -2.164601        -0.265211               -1.491435   \n",
       "\n",
       "   num__Atmospheric Pressure  num__UV Index  num__Visibility (km)  \\\n",
       "0                  -0.561530      -1.038715             -1.027154   \n",
       "1                   0.246574       1.813646              0.455922   \n",
       "2                   0.307330      -0.001493              0.752538   \n",
       "3                   0.184743      -1.038715             -0.582231   \n",
       "4                   0.482338       0.517118             -0.137308   \n",
       "\n",
       "   cat__Cloud Cover_clear  cat__Cloud Cover_cloudy  cat__Cloud Cover_overcast  \\\n",
       "0                     0.0                      0.0                        1.0   \n",
       "1                     0.0                      0.0                        0.0   \n",
       "2                     0.0                      0.0                        0.0   \n",
       "3                     0.0                      0.0                        0.0   \n",
       "4                     0.0                      0.0                        0.0   \n",
       "\n",
       "   cat__Cloud Cover_partly cloudy  cat__Season_Autumn  cat__Season_Spring  \\\n",
       "0                             0.0                 0.0                 0.0   \n",
       "1                             1.0                 0.0                 0.0   \n",
       "2                             1.0                 0.0                 0.0   \n",
       "3                             1.0                 0.0                 0.0   \n",
       "4                             1.0                 0.0                 1.0   \n",
       "\n",
       "   cat__Season_Summer  cat__Season_Winter  cat__Location_coastal  \\\n",
       "0                 0.0                 1.0                    0.0   \n",
       "1                 1.0                 0.0                    0.0   \n",
       "2                 1.0                 0.0                    0.0   \n",
       "3                 0.0                 1.0                    0.0   \n",
       "4                 0.0                 0.0                    0.0   \n",
       "\n",
       "   cat__Location_inland  cat__Location_mountain  \n",
       "0                   0.0                     1.0  \n",
       "1                   0.0                     1.0  \n",
       "2                   1.0                     0.0  \n",
       "3                   1.0                     0.0  \n",
       "4                   1.0                     0.0  "
      ]
     },
     "execution_count": 117,
     "metadata": {},
     "output_type": "execute_result"
    }
   ],
   "source": [
    "xnew_pre = pre.transform(xnew)\n",
    "xnew_pre.head()"
   ]
  },
  {
   "cell_type": "code",
   "execution_count": 118,
   "metadata": {},
   "outputs": [
    {
     "data": {
      "text/plain": [
       "array([2, 3, 0, 1, 3, 0, 2, 2, 2, 3, 1, 1, 2, 0, 3, 2, 0, 1, 1, 2, 1, 1,\n",
       "       0, 1, 3, 2, 0, 0, 1, 2, 3, 0, 2, 1, 1, 0, 0, 0, 1, 0, 2, 1, 2, 2,\n",
       "       0, 1, 2, 0, 2, 3, 3, 0, 1, 1, 3, 1, 3, 0, 1, 1, 3, 2, 3, 0, 2, 3,\n",
       "       2, 0, 1, 2, 1, 1, 1, 0, 0, 3, 1, 1, 1, 0, 2, 2, 1, 1, 2, 2, 3, 0,\n",
       "       0, 2, 3, 3, 2, 2, 3, 0, 1, 2, 3, 0], dtype=int64)"
      ]
     },
     "execution_count": 118,
     "metadata": {},
     "output_type": "execute_result"
    }
   ],
   "source": [
    "preds = model.predict(xnew_pre)\n",
    "preds"
   ]
  },
  {
   "cell_type": "code",
   "execution_count": 119,
   "metadata": {},
   "outputs": [
    {
     "data": {
      "text/plain": [
       "array(['Snowy', 'Sunny', 'Cloudy', 'Rainy', 'Sunny', 'Cloudy', 'Snowy',\n",
       "       'Snowy', 'Snowy', 'Sunny', 'Rainy', 'Rainy', 'Snowy', 'Cloudy',\n",
       "       'Sunny', 'Snowy', 'Cloudy', 'Rainy', 'Rainy', 'Snowy', 'Rainy',\n",
       "       'Rainy', 'Cloudy', 'Rainy', 'Sunny', 'Snowy', 'Cloudy', 'Cloudy',\n",
       "       'Rainy', 'Snowy', 'Sunny', 'Cloudy', 'Snowy', 'Rainy', 'Rainy',\n",
       "       'Cloudy', 'Cloudy', 'Cloudy', 'Rainy', 'Cloudy', 'Snowy', 'Rainy',\n",
       "       'Snowy', 'Snowy', 'Cloudy', 'Rainy', 'Snowy', 'Cloudy', 'Snowy',\n",
       "       'Sunny', 'Sunny', 'Cloudy', 'Rainy', 'Rainy', 'Sunny', 'Rainy',\n",
       "       'Sunny', 'Cloudy', 'Rainy', 'Rainy', 'Sunny', 'Snowy', 'Sunny',\n",
       "       'Cloudy', 'Snowy', 'Sunny', 'Snowy', 'Cloudy', 'Rainy', 'Snowy',\n",
       "       'Rainy', 'Rainy', 'Rainy', 'Cloudy', 'Cloudy', 'Sunny', 'Rainy',\n",
       "       'Rainy', 'Rainy', 'Cloudy', 'Snowy', 'Snowy', 'Rainy', 'Rainy',\n",
       "       'Snowy', 'Snowy', 'Sunny', 'Cloudy', 'Cloudy', 'Snowy', 'Sunny',\n",
       "       'Sunny', 'Snowy', 'Snowy', 'Sunny', 'Cloudy', 'Rainy', 'Snowy',\n",
       "       'Sunny', 'Cloudy'], dtype=object)"
      ]
     },
     "execution_count": 119,
     "metadata": {},
     "output_type": "execute_result"
    }
   ],
   "source": [
    "preds_lab = le.inverse_transform(preds)\n",
    "preds_lab"
   ]
  },
  {
   "cell_type": "code",
   "execution_count": 120,
   "metadata": {},
   "outputs": [
    {
     "data": {
      "text/plain": [
       "array([0, 1, 2, 3])"
      ]
     },
     "execution_count": 120,
     "metadata": {},
     "output_type": "execute_result"
    }
   ],
   "source": [
    "model.classes_"
   ]
  },
  {
   "cell_type": "code",
   "execution_count": 121,
   "metadata": {},
   "outputs": [
    {
     "data": {
      "text/plain": [
       "array([[6.9930429e-06, 3.2922300e-05, 9.9994397e-01, 1.6076094e-05],\n",
       "       [1.8633101e-02, 4.4759587e-04, 1.1654436e-05, 9.8090762e-01],\n",
       "       [9.9058199e-01, 2.4051499e-03, 4.9871783e-04, 6.5140948e-03],\n",
       "       [2.0203758e-03, 9.9661523e-01, 3.2511944e-04, 1.0392354e-03],\n",
       "       [1.7833960e-05, 1.8272566e-04, 6.4569205e-04, 9.9915373e-01]],\n",
       "      dtype=float32)"
      ]
     },
     "execution_count": 121,
     "metadata": {},
     "output_type": "execute_result"
    }
   ],
   "source": [
    "probs = model.predict_proba(xnew_pre)\n",
    "probs[0:5]"
   ]
  },
  {
   "cell_type": "code",
   "execution_count": 122,
   "metadata": {},
   "outputs": [
    {
     "data": {
      "text/plain": [
       "array([0.999944  , 0.9809076 , 0.990582  , 0.99661523, 0.99915373,\n",
       "       0.9899607 , 0.99987495, 0.99959964, 0.9993765 , 0.96923   ,\n",
       "       0.9677104 , 0.9993438 , 0.9990403 , 0.99660563, 0.99990094,\n",
       "       0.9979633 , 0.9961628 , 0.66781104, 0.7061758 , 0.9999385 ,\n",
       "       0.98833406, 0.9975435 , 0.99833626, 0.9983443 , 0.6823338 ,\n",
       "       0.9994337 , 0.9964921 , 0.8927991 , 0.98793787, 0.9993581 ,\n",
       "       0.99998224, 0.9949398 , 0.9998086 , 0.46396106, 0.99023825,\n",
       "       0.992278  , 0.9159442 , 0.9925552 , 0.9975733 , 0.5734335 ,\n",
       "       0.9984749 , 0.98289776, 0.99516463, 0.99988973, 0.9954904 ,\n",
       "       0.9993789 , 0.9998573 , 0.9927154 , 0.9982504 , 0.9999951 ,\n",
       "       0.9999987 , 0.95252156, 0.9994307 , 0.99942565, 0.99997795,\n",
       "       0.85712767, 0.99961084, 0.4344765 , 0.99886835, 0.9896937 ,\n",
       "       0.99994755, 0.9996588 , 0.9999938 , 0.7722879 , 0.99991393,\n",
       "       0.99993765, 0.99904174, 0.65121216, 0.9938021 , 0.99936575,\n",
       "       0.9974565 , 0.9984586 , 0.6145495 , 0.99310654, 0.9989139 ,\n",
       "       0.7839583 , 0.9996068 , 0.99409217, 0.4716112 , 0.996347  ,\n",
       "       0.8904616 , 0.9999069 , 0.9907251 , 0.99706584, 0.86838496,\n",
       "       0.9998068 , 0.9999937 , 0.96920234, 0.9929957 , 0.9999509 ,\n",
       "       0.9997168 , 0.97218746, 0.9991186 , 0.9994972 , 0.9890444 ,\n",
       "       0.999464  , 0.9997297 , 0.9997764 , 0.9999566 , 0.9954997 ],\n",
       "      dtype=float32)"
      ]
     },
     "execution_count": 122,
     "metadata": {},
     "output_type": "execute_result"
    }
   ],
   "source": [
    "import numpy as np \n",
    "max_probs = np.max(probs, axis=1)\n",
    "max_probs"
   ]
  },
  {
   "cell_type": "code",
   "execution_count": 123,
   "metadata": {},
   "outputs": [],
   "source": [
    "xnew['Weather_type_pred'] = preds_lab\n",
    "xnew['prob'] = max_probs"
   ]
  },
  {
   "cell_type": "code",
   "execution_count": 124,
   "metadata": {},
   "outputs": [
    {
     "data": {
      "text/html": [
       "<div>\n",
       "<style scoped>\n",
       "    .dataframe tbody tr th:only-of-type {\n",
       "        vertical-align: middle;\n",
       "    }\n",
       "\n",
       "    .dataframe tbody tr th {\n",
       "        vertical-align: top;\n",
       "    }\n",
       "\n",
       "    .dataframe thead th {\n",
       "        text-align: right;\n",
       "    }\n",
       "</style>\n",
       "<table border=\"1\" class=\"dataframe\">\n",
       "  <thead>\n",
       "    <tr style=\"text-align: right;\">\n",
       "      <th></th>\n",
       "      <th>Temperature</th>\n",
       "      <th>Humidity</th>\n",
       "      <th>Wind Speed</th>\n",
       "      <th>Precipitation (%)</th>\n",
       "      <th>Cloud Cover</th>\n",
       "      <th>Atmospheric Pressure</th>\n",
       "      <th>UV Index</th>\n",
       "      <th>Season</th>\n",
       "      <th>Visibility (km)</th>\n",
       "      <th>Location</th>\n",
       "      <th>Weather_type_pred</th>\n",
       "      <th>prob</th>\n",
       "    </tr>\n",
       "  </thead>\n",
       "  <tbody>\n",
       "    <tr>\n",
       "      <th>0</th>\n",
       "      <td>0</td>\n",
       "      <td>68</td>\n",
       "      <td>16.0</td>\n",
       "      <td>66.0</td>\n",
       "      <td>overcast</td>\n",
       "      <td>984.94</td>\n",
       "      <td>0</td>\n",
       "      <td>Winter</td>\n",
       "      <td>2.0</td>\n",
       "      <td>mountain</td>\n",
       "      <td>Snowy</td>\n",
       "      <td>0.999944</td>\n",
       "    </tr>\n",
       "    <tr>\n",
       "      <th>1</th>\n",
       "      <td>107</td>\n",
       "      <td>107</td>\n",
       "      <td>15.0</td>\n",
       "      <td>83.0</td>\n",
       "      <td>partly cloudy</td>\n",
       "      <td>1015.00</td>\n",
       "      <td>11</td>\n",
       "      <td>Summer</td>\n",
       "      <td>7.0</td>\n",
       "      <td>mountain</td>\n",
       "      <td>Sunny</td>\n",
       "      <td>0.980908</td>\n",
       "    </tr>\n",
       "    <tr>\n",
       "      <th>2</th>\n",
       "      <td>19</td>\n",
       "      <td>76</td>\n",
       "      <td>12.5</td>\n",
       "      <td>35.0</td>\n",
       "      <td>partly cloudy</td>\n",
       "      <td>1017.26</td>\n",
       "      <td>4</td>\n",
       "      <td>Summer</td>\n",
       "      <td>8.0</td>\n",
       "      <td>inland</td>\n",
       "      <td>Cloudy</td>\n",
       "      <td>0.990582</td>\n",
       "    </tr>\n",
       "    <tr>\n",
       "      <th>3</th>\n",
       "      <td>22</td>\n",
       "      <td>99</td>\n",
       "      <td>18.5</td>\n",
       "      <td>NaN</td>\n",
       "      <td>partly cloudy</td>\n",
       "      <td>1012.70</td>\n",
       "      <td>0</td>\n",
       "      <td>NaN</td>\n",
       "      <td>3.5</td>\n",
       "      <td>inland</td>\n",
       "      <td>Rainy</td>\n",
       "      <td>0.996615</td>\n",
       "    </tr>\n",
       "    <tr>\n",
       "      <th>4</th>\n",
       "      <td>33</td>\n",
       "      <td>25</td>\n",
       "      <td>8.0</td>\n",
       "      <td>6.0</td>\n",
       "      <td>partly cloudy</td>\n",
       "      <td>1023.77</td>\n",
       "      <td>6</td>\n",
       "      <td>Spring</td>\n",
       "      <td>NaN</td>\n",
       "      <td>inland</td>\n",
       "      <td>Sunny</td>\n",
       "      <td>0.999154</td>\n",
       "    </tr>\n",
       "    <tr>\n",
       "      <th>...</th>\n",
       "      <td>...</td>\n",
       "      <td>...</td>\n",
       "      <td>...</td>\n",
       "      <td>...</td>\n",
       "      <td>...</td>\n",
       "      <td>...</td>\n",
       "      <td>...</td>\n",
       "      <td>...</td>\n",
       "      <td>...</td>\n",
       "      <td>...</td>\n",
       "      <td>...</td>\n",
       "      <td>...</td>\n",
       "    </tr>\n",
       "    <tr>\n",
       "      <th>95</th>\n",
       "      <td>27</td>\n",
       "      <td>59</td>\n",
       "      <td>9.5</td>\n",
       "      <td>41.0</td>\n",
       "      <td>overcast</td>\n",
       "      <td>1001.39</td>\n",
       "      <td>4</td>\n",
       "      <td>Spring</td>\n",
       "      <td>8.0</td>\n",
       "      <td>mountain</td>\n",
       "      <td>Cloudy</td>\n",
       "      <td>0.999464</td>\n",
       "    </tr>\n",
       "    <tr>\n",
       "      <th>96</th>\n",
       "      <td>73</td>\n",
       "      <td>82</td>\n",
       "      <td>47.0</td>\n",
       "      <td>107.0</td>\n",
       "      <td>overcast</td>\n",
       "      <td>1002.73</td>\n",
       "      <td>0</td>\n",
       "      <td>Winter</td>\n",
       "      <td>0.5</td>\n",
       "      <td>mountain</td>\n",
       "      <td>Rainy</td>\n",
       "      <td>0.999730</td>\n",
       "    </tr>\n",
       "    <tr>\n",
       "      <th>97</th>\n",
       "      <td>2</td>\n",
       "      <td>60</td>\n",
       "      <td>3.0</td>\n",
       "      <td>70.0</td>\n",
       "      <td>overcast</td>\n",
       "      <td>994.19</td>\n",
       "      <td>0</td>\n",
       "      <td>Winter</td>\n",
       "      <td>2.0</td>\n",
       "      <td>mountain</td>\n",
       "      <td>Snowy</td>\n",
       "      <td>0.999776</td>\n",
       "    </tr>\n",
       "    <tr>\n",
       "      <th>98</th>\n",
       "      <td>33</td>\n",
       "      <td>44</td>\n",
       "      <td>1.5</td>\n",
       "      <td>11.0</td>\n",
       "      <td>clear</td>\n",
       "      <td>1011.95</td>\n",
       "      <td>7</td>\n",
       "      <td>Summer</td>\n",
       "      <td>8.5</td>\n",
       "      <td>inland</td>\n",
       "      <td>Sunny</td>\n",
       "      <td>0.999957</td>\n",
       "    </tr>\n",
       "    <tr>\n",
       "      <th>99</th>\n",
       "      <td>17</td>\n",
       "      <td>79</td>\n",
       "      <td>14.0</td>\n",
       "      <td>31.0</td>\n",
       "      <td>partly cloudy</td>\n",
       "      <td>1013.39</td>\n",
       "      <td>3</td>\n",
       "      <td>Winter</td>\n",
       "      <td>5.0</td>\n",
       "      <td>coastal</td>\n",
       "      <td>Cloudy</td>\n",
       "      <td>0.995500</td>\n",
       "    </tr>\n",
       "  </tbody>\n",
       "</table>\n",
       "<p>100 rows × 12 columns</p>\n",
       "</div>"
      ],
      "text/plain": [
       "    Temperature  Humidity  Wind Speed  Precipitation (%)    Cloud Cover  \\\n",
       "0             0        68        16.0               66.0       overcast   \n",
       "1           107       107        15.0               83.0  partly cloudy   \n",
       "2            19        76        12.5               35.0  partly cloudy   \n",
       "3            22        99        18.5                NaN  partly cloudy   \n",
       "4            33        25         8.0                6.0  partly cloudy   \n",
       "..          ...       ...         ...                ...            ...   \n",
       "95           27        59         9.5               41.0       overcast   \n",
       "96           73        82        47.0              107.0       overcast   \n",
       "97            2        60         3.0               70.0       overcast   \n",
       "98           33        44         1.5               11.0          clear   \n",
       "99           17        79        14.0               31.0  partly cloudy   \n",
       "\n",
       "    Atmospheric Pressure  UV Index  Season  Visibility (km)  Location  \\\n",
       "0                 984.94         0  Winter              2.0  mountain   \n",
       "1                1015.00        11  Summer              7.0  mountain   \n",
       "2                1017.26         4  Summer              8.0    inland   \n",
       "3                1012.70         0     NaN              3.5    inland   \n",
       "4                1023.77         6  Spring              NaN    inland   \n",
       "..                   ...       ...     ...              ...       ...   \n",
       "95               1001.39         4  Spring              8.0  mountain   \n",
       "96               1002.73         0  Winter              0.5  mountain   \n",
       "97                994.19         0  Winter              2.0  mountain   \n",
       "98               1011.95         7  Summer              8.5    inland   \n",
       "99               1013.39         3  Winter              5.0   coastal   \n",
       "\n",
       "   Weather_type_pred      prob  \n",
       "0              Snowy  0.999944  \n",
       "1              Sunny  0.980908  \n",
       "2             Cloudy  0.990582  \n",
       "3              Rainy  0.996615  \n",
       "4              Sunny  0.999154  \n",
       "..               ...       ...  \n",
       "95            Cloudy  0.999464  \n",
       "96             Rainy  0.999730  \n",
       "97             Snowy  0.999776  \n",
       "98             Sunny  0.999957  \n",
       "99            Cloudy  0.995500  \n",
       "\n",
       "[100 rows x 12 columns]"
      ]
     },
     "execution_count": 124,
     "metadata": {},
     "output_type": "execute_result"
    }
   ],
   "source": [
    "xnew"
   ]
  },
  {
   "cell_type": "code",
   "execution_count": 125,
   "metadata": {},
   "outputs": [],
   "source": [
    "xnew.to_csv(\"xgbResults.csv\", index=False)"
   ]
  },
  {
   "cell_type": "markdown",
   "metadata": {},
   "source": [
    "### Get the feature importances"
   ]
  },
  {
   "cell_type": "code",
   "execution_count": 126,
   "metadata": {},
   "outputs": [
    {
     "data": {
      "text/plain": [
       "array([0.08042917, 0.00592751, 0.0063642 , 0.0395065 , 0.0220015 ,\n",
       "       0.07620671, 0.03669349, 0.6053045 , 0.01309693, 0.02138668,\n",
       "       0.00768963, 0.00563845, 0.0039    , 0.00299883, 0.05730655,\n",
       "       0.00820474, 0.00275087, 0.00459381], dtype=float32)"
      ]
     },
     "execution_count": 126,
     "metadata": {},
     "output_type": "execute_result"
    }
   ],
   "source": [
    "model.feature_importances_"
   ]
  },
  {
   "cell_type": "code",
   "execution_count": 127,
   "metadata": {},
   "outputs": [
    {
     "data": {
      "text/plain": [
       "Index(['num__Temperature', 'num__Humidity', 'num__Wind Speed',\n",
       "       'num__Precipitation (%)', 'num__Atmospheric Pressure', 'num__UV Index',\n",
       "       'num__Visibility (km)', 'cat__Cloud Cover_clear',\n",
       "       'cat__Cloud Cover_cloudy', 'cat__Cloud Cover_overcast',\n",
       "       'cat__Cloud Cover_partly cloudy', 'cat__Season_Autumn',\n",
       "       'cat__Season_Spring', 'cat__Season_Summer', 'cat__Season_Winter',\n",
       "       'cat__Location_coastal', 'cat__Location_inland',\n",
       "       'cat__Location_mountain'],\n",
       "      dtype='object')"
      ]
     },
     "execution_count": 127,
     "metadata": {},
     "output_type": "execute_result"
    }
   ],
   "source": [
    "xtrain.columns"
   ]
  },
  {
   "cell_type": "code",
   "execution_count": 128,
   "metadata": {},
   "outputs": [
    {
     "data": {
      "text/plain": [
       "num__Temperature                  0.080429\n",
       "num__Humidity                     0.005928\n",
       "num__Wind Speed                   0.006364\n",
       "num__Precipitation (%)            0.039506\n",
       "num__Atmospheric Pressure         0.022001\n",
       "num__UV Index                     0.076207\n",
       "num__Visibility (km)              0.036693\n",
       "cat__Cloud Cover_clear            0.605304\n",
       "cat__Cloud Cover_cloudy           0.013097\n",
       "cat__Cloud Cover_overcast         0.021387\n",
       "cat__Cloud Cover_partly cloudy    0.007690\n",
       "cat__Season_Autumn                0.005638\n",
       "cat__Season_Spring                0.003900\n",
       "cat__Season_Summer                0.002999\n",
       "cat__Season_Winter                0.057307\n",
       "cat__Location_coastal             0.008205\n",
       "cat__Location_inland              0.002751\n",
       "cat__Location_mountain            0.004594\n",
       "dtype: float32"
      ]
     },
     "execution_count": 128,
     "metadata": {},
     "output_type": "execute_result"
    }
   ],
   "source": [
    "imp = pd.Series(model.feature_importances_, index=xtrain.columns)\n",
    "imp"
   ]
  },
  {
   "cell_type": "code",
   "execution_count": 129,
   "metadata": {},
   "outputs": [
    {
     "data": {
      "text/plain": [
       "cat__Cloud Cover_clear            0.605304\n",
       "num__Temperature                  0.080429\n",
       "num__UV Index                     0.076207\n",
       "cat__Season_Winter                0.057307\n",
       "num__Precipitation (%)            0.039506\n",
       "num__Visibility (km)              0.036693\n",
       "num__Atmospheric Pressure         0.022001\n",
       "cat__Cloud Cover_overcast         0.021387\n",
       "cat__Cloud Cover_cloudy           0.013097\n",
       "cat__Location_coastal             0.008205\n",
       "cat__Cloud Cover_partly cloudy    0.007690\n",
       "num__Wind Speed                   0.006364\n",
       "num__Humidity                     0.005928\n",
       "cat__Season_Autumn                0.005638\n",
       "cat__Location_mountain            0.004594\n",
       "cat__Season_Spring                0.003900\n",
       "cat__Season_Summer                0.002999\n",
       "cat__Location_inland              0.002751\n",
       "dtype: float32"
      ]
     },
     "execution_count": 129,
     "metadata": {},
     "output_type": "execute_result"
    }
   ],
   "source": [
    "imp.sort_values(ascending=False)"
   ]
  },
  {
   "cell_type": "code",
   "execution_count": 130,
   "metadata": {},
   "outputs": [
    {
     "data": {
      "text/plain": [
       "<Axes: >"
      ]
     },
     "execution_count": 130,
     "metadata": {},
     "output_type": "execute_result"
    },
    {
     "data": {
      "image/png": "[encoded data removed]",
      "text/plain": [
       "<Figure size 640x480 with 1 Axes>"
      ]
     },
     "metadata": {},
     "output_type": "display_data"
    }
   ],
   "source": [
    "imp.sort_values(ascending=False).plot(kind='bar')"
   ]
  }
 ],
 "metadata": {
  "kernelspec": {
   "display_name": "base",
   "language": "python",
   "name": "python3"
  },
  "language_info": {
   "codemirror_mode": {
    "name": "ipython",
    "version": 3
   },
   "file_extension": ".py",
   "mimetype": "text/x-python",
   "name": "python",
   "nbconvert_exporter": "python",
   "pygments_lexer": "ipython3",
   "version": "3.11.5"
  }
 },
 "nbformat": 4,
 "nbformat_minor": 2
}
